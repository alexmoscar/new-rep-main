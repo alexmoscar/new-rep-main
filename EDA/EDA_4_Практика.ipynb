{
  "cells": [
    {
      "cell_type": "markdown",
      "metadata": {
        "id": "yMG_XPwziMUN"
      },
      "source": [
        "# <center> Практика. "
      ]
    },
    {
      "cell_type": "markdown",
      "metadata": {
        "id": "EMd2vwh8ihnl"
      },
      "source": [
        "## Постановка задачи\n",
        "\n",
        "HR-агентство изучает тренды на рынке труда в IT. Компания хочет провести исследование на основе данных о зарплатах в сфере Data Science за 2020–2022 годы и получить некоторые выводы.\n",
        "\n",
        "Страховая компания хочет ответить на следующие вопросы, касающиеся страховых выплат:\n",
        "\n",
        "В процессе своего анализа вы должны:\n",
        "\n",
        "- Выяснить, какие факторы влияют на зарплату специалиста Data Scientist.\n",
        "А также ответить на ключевые вопросы HR-агентства:\n",
        "    - Наблюдается ли ежегодный рост зарплат у специалистов Data Scientist?\n",
        "    - Как соотносятся зарплаты Data Scientist и Data Engineer в 2022 году?\n",
        "    - Как соотносятся зарплаты специалистов Data Scientist в компаниях различных размеров?\n",
        "    - Есть ли связь между наличием должностей Data Scientist и Data Engineer и размером компании?\n",
        "\n"
      ]
    },
    {
      "cell_type": "markdown",
      "metadata": {
        "id": "xqjB2nBnNNkc"
      },
      "source": [
        "Данные содержат следующие столбцы:\n",
        "*   work_year - Год, в котором была выплачена зарплата.\n",
        "* experience_level - Опыт работы на этой должности в течение года со следующими возможными значениями:\n",
        "* EN — Entry-level/Junior;\n",
        "* MI — Mid-level/Intermediate;\n",
        "* SE — Senior-level/Expert;\n",
        "* EX — Executive-level/Director.\n",
        "* employment_type - Тип трудоустройства для этой роли:\n",
        "* PT — неполный рабочий день;\n",
        "* FT — полный рабочий день;\n",
        "* CT — контракт;\n",
        "* FL — фриланс.\n",
        "* job_title - Роль, в которой соискатель работал в течение года.\n",
        "* salary - Общая выплаченная валовая сумма заработной платы.\n",
        "* salary_currency - Валюта выплачиваемой заработной платы в виде кода валюты ISO 4217.\n",
        "* salary_in_usd - Зарплата в долларах США (валютный курс, делённый на среднее значение курса доллара США за соответствующий год через fxdata.foorilla.com).\n",
        "* employee_residence - Основная страна проживания сотрудника в течение рабочего года в виде кода страны ISO 3166.\n",
        "* remote_ratio -Общий объём работы, выполняемой удалённо. Возможные значения:\n",
        "    - 0 — удалённой работы нет (менее 20 %);\n",
        "    - 50 — частично удалённая работа;\n",
        "    - 100 — полностью удалённая работа (более 80 %).\n",
        "* company_location - Страна главного офиса работодателя или филиала по контракту в виде кода страны ISO 3166.\n",
        "* company_size - Среднее количество людей, работавших в компании в течение года:\n",
        "    - S — менее 50 сотрудников (небольшая компания);\n",
        "    - M — от 50 до 250 сотрудников (средняя компания);\n",
        "    - L — более 250 сотрудников (крупная компания).\n"
      ]
    },
    {
      "cell_type": "markdown",
      "metadata": {
        "id": "_XMyOg3cgcN1"
      },
      "source": [
        "## Загрузка данных"
      ]
    },
    {
      "cell_type": "code",
      "execution_count": 64,
      "metadata": {
        "id": "2JjaPf35gyCK"
      },
      "outputs": [],
      "source": [
        "# загружаем необходимые библиотеки\n",
        "import pandas as pd\n",
        "import numpy as np\n",
        "\n",
        "from scipy import stats\n",
        "import statsmodels.api as sm\n",
        "from statsmodels import stats as sms\n",
        "\n",
        "import matplotlib.pyplot as plt\n",
        "import seaborn as sns\n",
        "from statsmodels.stats.contingency_tables import mcnemar\n",
        "\n",
        "# делаем визуальную настройку графиков\n",
        "sns.set_theme(\"notebook\") \n",
        "sns.set_palette(\"Set2\") "
      ]
    },
    {
      "cell_type": "code",
      "execution_count": 2,
      "metadata": {
        "colab": {
          "base_uri": "https://localhost:8080/"
        },
        "id": "-Op6Oy7hf5ZM",
        "outputId": "9ea91bf5-b019-43e3-aaf4-94408a78c63f"
      },
      "outputs": [],
      "source": [
        "# прочитаем датасет \n",
        "data = pd.read_csv('ds_salaries.csv', index_col=[0])"
      ]
    },
    {
      "cell_type": "code",
      "execution_count": 3,
      "metadata": {
        "colab": {
          "base_uri": "https://localhost:8080/"
        },
        "id": "uLEEV6aLomOU",
        "outputId": "23314b21-aa3f-4537-94cb-be776d9427ae"
      },
      "outputs": [
        {
          "name": "stdout",
          "output_type": "stream",
          "text": [
            "Уровень значимости alpha = 0.05\n"
          ]
        }
      ],
      "source": [
        "# задаём уровень значимости\n",
        "alpha = 0.05 \n",
        "print(\"Уровень значимости alpha = {:.2f}\".format(alpha))"
      ]
    },
    {
      "cell_type": "markdown",
      "metadata": {
        "id": "c9QRWWOVfV13"
      },
      "source": [
        "## Описательный анализ данных"
      ]
    },
    {
      "cell_type": "code",
      "execution_count": null,
      "metadata": {
        "colab": {
          "base_uri": "https://localhost:8080/"
        },
        "id": "zkiOmlAy2XQU",
        "outputId": "88adbac3-0fd7-460c-a368-c40baff97200"
      },
      "outputs": [],
      "source": [
        "data.info()"
      ]
    },
    {
      "cell_type": "markdown",
      "metadata": {
        "id": "2DSvnZuul7Za"
      },
      "source": [
        "В датасете 607 записей (без пропущенных значений). В датасете 5 столбцов с числовыми и 7 с категориальными признаками "
      ]
    },
    {
      "cell_type": "markdown",
      "metadata": {
        "id": "Xug87trzl7Za"
      },
      "source": [
        "Проверка данных на наличие полных дубликатов:"
      ]
    },
    {
      "cell_type": "code",
      "execution_count": 4,
      "metadata": {
        "colab": {
          "base_uri": "https://localhost:8080/"
        },
        "id": "As_X7I6jl7Za",
        "outputId": "3d3795b3-ab7c-4cc6-ab3d-23a4796a7b5c"
      },
      "outputs": [
        {
          "name": "stdout",
          "output_type": "stream",
          "text": [
            "Количество дубликатов: 42\n",
            "Размер таблицы после удаления дубликатов: (565, 11)\n"
          ]
        }
      ],
      "source": [
        "print('Количество дубликатов: {}'.format(data[data.duplicated()].shape[0]))\n",
        "\n",
        "# Удаляем дубликаты:\n",
        "data = data.drop_duplicates()\n",
        "print('Размер таблицы после удаления дубликатов: {}'.format(data.shape))"
      ]
    },
    {
      "cell_type": "markdown",
      "metadata": {},
      "source": [
        "Проверка на возможные выбросы в колонке Salary"
      ]
    },
    {
      "cell_type": "code",
      "execution_count": 5,
      "metadata": {},
      "outputs": [
        {
          "data": {
            "text/html": [
              "<div>\n",
              "<style scoped>\n",
              "    .dataframe tbody tr th:only-of-type {\n",
              "        vertical-align: middle;\n",
              "    }\n",
              "\n",
              "    .dataframe tbody tr th {\n",
              "        vertical-align: top;\n",
              "    }\n",
              "\n",
              "    .dataframe thead th {\n",
              "        text-align: right;\n",
              "    }\n",
              "</style>\n",
              "<table border=\"1\" class=\"dataframe\">\n",
              "  <thead>\n",
              "    <tr style=\"text-align: right;\">\n",
              "      <th></th>\n",
              "      <th>Размер з.п.</th>\n",
              "    </tr>\n",
              "  </thead>\n",
              "  <tbody>\n",
              "    <tr>\n",
              "      <th>count</th>\n",
              "      <td>565.00</td>\n",
              "    </tr>\n",
              "    <tr>\n",
              "      <th>mean</th>\n",
              "      <td>338115.99</td>\n",
              "    </tr>\n",
              "    <tr>\n",
              "      <th>std</th>\n",
              "      <td>1599878.79</td>\n",
              "    </tr>\n",
              "    <tr>\n",
              "      <th>min</th>\n",
              "      <td>4000.00</td>\n",
              "    </tr>\n",
              "    <tr>\n",
              "      <th>25%</th>\n",
              "      <td>67000.00</td>\n",
              "    </tr>\n",
              "    <tr>\n",
              "      <th>50%</th>\n",
              "      <td>110925.00</td>\n",
              "    </tr>\n",
              "    <tr>\n",
              "      <th>75%</th>\n",
              "      <td>165000.00</td>\n",
              "    </tr>\n",
              "    <tr>\n",
              "      <th>max</th>\n",
              "      <td>30400000.00</td>\n",
              "    </tr>\n",
              "  </tbody>\n",
              "</table>\n",
              "</div>"
            ],
            "text/plain": [
              "       Размер з.п.\n",
              "count       565.00\n",
              "mean     338115.99\n",
              "std     1599878.79\n",
              "min        4000.00\n",
              "25%       67000.00\n",
              "50%      110925.00\n",
              "75%      165000.00\n",
              "max    30400000.00"
            ]
          },
          "execution_count": 5,
          "metadata": {},
          "output_type": "execute_result"
        }
      ],
      "source": [
        "data_agg = data['salary'].describe().round(2).to_frame()\n",
        "data_agg.columns = ['Размер з.п.']\n",
        "data_agg"
      ]
    },
    {
      "cell_type": "markdown",
      "metadata": {},
      "source": [
        "Видно, что з.п. имеет максимальное значение более 3 миллионов. При анализе исходных данных видно, что стобец salary указывает на уровень з.п. в местной валюте. Считаю, что столбцы salary и salary_currency для данного анализа нам не нужны."
      ]
    },
    {
      "cell_type": "code",
      "execution_count": 6,
      "metadata": {},
      "outputs": [],
      "source": [
        "#удаляем стобцы salary и salary_currency\n",
        "data = data.drop(['salary','salary_currency'], axis= 1)"
      ]
    },
    {
      "cell_type": "markdown",
      "metadata": {},
      "source": [
        "Построим график, чтобы увидеть выбросы."
      ]
    },
    {
      "cell_type": "code",
      "execution_count": 7,
      "metadata": {},
      "outputs": [
        {
          "data": {
            "image/png": "[encoded data removed]",
            "text/plain": [
              "<Figure size 1500x500 with 1 Axes>"
            ]
          },
          "metadata": {},
          "output_type": "display_data"
        }
      ],
      "source": [
        "fig = plt.figure(figsize=(15, 5))\n",
        "sns.boxplot(data = data, x = 'salary_in_usd', orient='h', medianprops={\"color\": \"red\", \"linestyle\": '--'})\n",
        "\n",
        "plt.show()"
      ]
    },
    {
      "cell_type": "markdown",
      "metadata": {},
      "source": [
        "Как видно, основная з.п. находится в пределах 300 000 USD, остальное, я бы считал не несущим пользы и удалил эти признаки"
      ]
    },
    {
      "cell_type": "code",
      "execution_count": 8,
      "metadata": {},
      "outputs": [
        {
          "name": "stdout",
          "output_type": "stream",
          "text": [
            "<class 'pandas.core.frame.DataFrame'>\n",
            "Index: 555 entries, 0 to 606\n",
            "Data columns (total 9 columns):\n",
            " #   Column              Non-Null Count  Dtype \n",
            "---  ------              --------------  ----- \n",
            " 0   work_year           555 non-null    int64 \n",
            " 1   experience_level    555 non-null    object\n",
            " 2   employment_type     555 non-null    object\n",
            " 3   job_title           555 non-null    object\n",
            " 4   salary_in_usd       555 non-null    int64 \n",
            " 5   employee_residence  555 non-null    object\n",
            " 6   remote_ratio        555 non-null    int64 \n",
            " 7   company_location    555 non-null    object\n",
            " 8   company_size        555 non-null    object\n",
            "dtypes: int64(3), object(6)\n",
            "memory usage: 43.4+ KB\n"
          ]
        }
      ],
      "source": [
        "#убираем результаты с з.п. более 300.000\n",
        "outliers = data[data['salary_in_usd']>300000]\n",
        "cleaned_data = data.drop(outliers.index, axis =0)\n",
        "cleaned_data.info()"
      ]
    },
    {
      "cell_type": "code",
      "execution_count": 9,
      "metadata": {
        "colab": {
          "base_uri": "https://localhost:8080/",
          "height": 300
        },
        "id": "h4rqfECm4umv",
        "outputId": "3edbc181-1016-488d-ef8c-6dfc5dbbfee1"
      },
      "outputs": [
        {
          "data": {
            "text/html": [
              "<div>\n",
              "<style scoped>\n",
              "    .dataframe tbody tr th:only-of-type {\n",
              "        vertical-align: middle;\n",
              "    }\n",
              "\n",
              "    .dataframe tbody tr th {\n",
              "        vertical-align: top;\n",
              "    }\n",
              "\n",
              "    .dataframe thead th {\n",
              "        text-align: right;\n",
              "    }\n",
              "</style>\n",
              "<table border=\"1\" class=\"dataframe\">\n",
              "  <thead>\n",
              "    <tr style=\"text-align: right;\">\n",
              "      <th></th>\n",
              "      <th>Размер з.п.</th>\n",
              "    </tr>\n",
              "  </thead>\n",
              "  <tbody>\n",
              "    <tr>\n",
              "      <th>count</th>\n",
              "      <td>555.00</td>\n",
              "    </tr>\n",
              "    <tr>\n",
              "      <th>mean</th>\n",
              "      <td>105062.78</td>\n",
              "    </tr>\n",
              "    <tr>\n",
              "      <th>std</th>\n",
              "      <td>58981.19</td>\n",
              "    </tr>\n",
              "    <tr>\n",
              "      <th>min</th>\n",
              "      <td>2859.00</td>\n",
              "    </tr>\n",
              "    <tr>\n",
              "      <th>25%</th>\n",
              "      <td>60000.00</td>\n",
              "    </tr>\n",
              "    <tr>\n",
              "      <th>50%</th>\n",
              "      <td>100000.00</td>\n",
              "    </tr>\n",
              "    <tr>\n",
              "      <th>75%</th>\n",
              "      <td>145500.00</td>\n",
              "    </tr>\n",
              "    <tr>\n",
              "      <th>max</th>\n",
              "      <td>276000.00</td>\n",
              "    </tr>\n",
              "  </tbody>\n",
              "</table>\n",
              "</div>"
            ],
            "text/plain": [
              "       Размер з.п.\n",
              "count       555.00\n",
              "mean     105062.78\n",
              "std       58981.19\n",
              "min        2859.00\n",
              "25%       60000.00\n",
              "50%      100000.00\n",
              "75%      145500.00\n",
              "max      276000.00"
            ]
          },
          "execution_count": 9,
          "metadata": {},
          "output_type": "execute_result"
        }
      ],
      "source": [
        "data_agg = cleaned_data['salary_in_usd'].describe().round(2).to_frame()\n",
        "data_agg.columns = ['Размер з.п.']\n",
        "data_agg"
      ]
    },
    {
      "cell_type": "code",
      "execution_count": 11,
      "metadata": {
        "colab": {
          "base_uri": "https://localhost:8080/",
          "height": 480
        },
        "id": "a06HKS1bwzsS",
        "outputId": "e4aa3e1a-71d3-4df3-8857-3f9f4342fa18"
      },
      "outputs": [
        {
          "data": {
            "image/png": "[encoded data removed]",
            "text/plain": [
              "<Figure size 640x480 with 1 Axes>"
            ]
          },
          "metadata": {},
          "output_type": "display_data"
        }
      ],
      "source": [
        "ax = sns.boxplot(cleaned_data, x='salary_in_usd', orient='h', medianprops={\"color\": \"red\", \"linestyle\": '--'})\n",
        "ax.set(xlabel='Уровень з.п.')\n",
        "plt.title('Разброс данных по з.п.')\n",
        "plt.show()"
      ]
    },
    {
      "cell_type": "markdown",
      "metadata": {},
      "source": [
        "### Рост З.П. (DS) по годам"
      ]
    },
    {
      "cell_type": "code",
      "execution_count": 27,
      "metadata": {},
      "outputs": [],
      "source": [
        "#Создадим DF для двух специальностей\n",
        "data1 = cleaned_data[cleaned_data['job_title']=='Data Scientist']\n",
        "data2 = cleaned_data[cleaned_data['job_title']=='Data Engineer']\n"
      ]
    },
    {
      "cell_type": "code",
      "execution_count": 19,
      "metadata": {},
      "outputs": [
        {
          "name": "stdout",
          "output_type": "stream",
          "text": [
            "З.п. в зависимости от года работы\n"
          ]
        },
        {
          "data": {
            "text/html": [
              "<div>\n",
              "<style scoped>\n",
              "    .dataframe tbody tr th:only-of-type {\n",
              "        vertical-align: middle;\n",
              "    }\n",
              "\n",
              "    .dataframe tbody tr th {\n",
              "        vertical-align: top;\n",
              "    }\n",
              "\n",
              "    .dataframe thead th {\n",
              "        text-align: right;\n",
              "    }\n",
              "</style>\n",
              "<table border=\"1\" class=\"dataframe\">\n",
              "  <thead>\n",
              "    <tr style=\"text-align: right;\">\n",
              "      <th></th>\n",
              "      <th>count</th>\n",
              "      <th>mean</th>\n",
              "      <th>std</th>\n",
              "      <th>min</th>\n",
              "      <th>25%</th>\n",
              "      <th>50%</th>\n",
              "      <th>75%</th>\n",
              "      <th>max</th>\n",
              "    </tr>\n",
              "    <tr>\n",
              "      <th>work_year</th>\n",
              "      <th></th>\n",
              "      <th></th>\n",
              "      <th></th>\n",
              "      <th></th>\n",
              "      <th></th>\n",
              "      <th></th>\n",
              "      <th></th>\n",
              "      <th></th>\n",
              "    </tr>\n",
              "  </thead>\n",
              "  <tbody>\n",
              "    <tr>\n",
              "      <th>2020</th>\n",
              "      <td>20.0</td>\n",
              "      <td>69669.05</td>\n",
              "      <td>33268.11</td>\n",
              "      <td>21669.0</td>\n",
              "      <td>41768.00</td>\n",
              "      <td>62726.0</td>\n",
              "      <td>94677.75</td>\n",
              "      <td>138350.0</td>\n",
              "    </tr>\n",
              "    <tr>\n",
              "      <th>2021</th>\n",
              "      <td>44.0</td>\n",
              "      <td>70215.77</td>\n",
              "      <td>45843.82</td>\n",
              "      <td>2859.0</td>\n",
              "      <td>32793.75</td>\n",
              "      <td>67233.5</td>\n",
              "      <td>100922.75</td>\n",
              "      <td>165000.0</td>\n",
              "    </tr>\n",
              "    <tr>\n",
              "      <th>2022</th>\n",
              "      <td>65.0</td>\n",
              "      <td>131366.94</td>\n",
              "      <td>55785.24</td>\n",
              "      <td>18442.0</td>\n",
              "      <td>95550.00</td>\n",
              "      <td>135000.0</td>\n",
              "      <td>170000.00</td>\n",
              "      <td>260000.0</td>\n",
              "    </tr>\n",
              "  </tbody>\n",
              "</table>\n",
              "</div>"
            ],
            "text/plain": [
              "           count       mean       std      min       25%       50%        75%  \\\n",
              "work_year                                                                       \n",
              "2020        20.0   69669.05  33268.11  21669.0  41768.00   62726.0   94677.75   \n",
              "2021        44.0   70215.77  45843.82   2859.0  32793.75   67233.5  100922.75   \n",
              "2022        65.0  131366.94  55785.24  18442.0  95550.00  135000.0  170000.00   \n",
              "\n",
              "                max  \n",
              "work_year            \n",
              "2020       138350.0  \n",
              "2021       165000.0  \n",
              "2022       260000.0  "
            ]
          },
          "execution_count": 19,
          "metadata": {},
          "output_type": "execute_result"
        }
      ],
      "source": [
        "data_agg = data1.groupby('work_year')['salary_in_usd'].describe().round(2)\n",
        "print('З.п. в зависимости от года работы')\n",
        "data_agg"
      ]
    },
    {
      "cell_type": "markdown",
      "metadata": {},
      "source": [
        "Как видно, рост зарплаты с каждым годом присутствует, особенно это видно в 2022 году. При этом средняя в 2020 и 2021 году примерно одинаковая. Также в 2021 году есть похожее на \"выброс\" значение min. С ним, если расмматривать отдельно 2021 год, можно поработать. Посморим на графике. "
      ]
    },
    {
      "cell_type": "code",
      "execution_count": 105,
      "metadata": {},
      "outputs": [
        {
          "data": {
            "image/png": "[encoded data removed]",
            "text/plain": [
              "<Figure size 640x480 with 1 Axes>"
            ]
          },
          "metadata": {},
          "output_type": "display_data"
        }
      ],
      "source": [
        "ax = sns.boxplot(data1, x='salary_in_usd', y='work_year', orient='h', medianprops={\"color\": \"red\", \"linestyle\": '--'})\n",
        "ax.set(xlabel='Размер з.п.', ylabel='Год работы')\n",
        "plt.title('Размер з.п. в зависимости от года работы')\n",
        "plt.show()"
      ]
    },
    {
      "cell_type": "markdown",
      "metadata": {},
      "source": [
        "### З.П.(Data Science) в зависимости от размера компании"
      ]
    },
    {
      "cell_type": "code",
      "execution_count": 103,
      "metadata": {
        "colab": {
          "base_uri": "https://localhost:8080/",
          "height": 223
        },
        "id": "xfI208tHwz6T",
        "outputId": "af1e6d3f-7417-4633-814a-353507e9104f"
      },
      "outputs": [
        {
          "name": "stdout",
          "output_type": "stream",
          "text": [
            "З.п. в зависимости от размера компании\n"
          ]
        },
        {
          "data": {
            "text/html": [
              "<div>\n",
              "<style scoped>\n",
              "    .dataframe tbody tr th:only-of-type {\n",
              "        vertical-align: middle;\n",
              "    }\n",
              "\n",
              "    .dataframe tbody tr th {\n",
              "        vertical-align: top;\n",
              "    }\n",
              "\n",
              "    .dataframe thead th {\n",
              "        text-align: right;\n",
              "    }\n",
              "</style>\n",
              "<table border=\"1\" class=\"dataframe\">\n",
              "  <thead>\n",
              "    <tr style=\"text-align: right;\">\n",
              "      <th></th>\n",
              "      <th>count</th>\n",
              "      <th>mean</th>\n",
              "      <th>std</th>\n",
              "      <th>min</th>\n",
              "      <th>25%</th>\n",
              "      <th>50%</th>\n",
              "      <th>75%</th>\n",
              "      <th>max</th>\n",
              "    </tr>\n",
              "    <tr>\n",
              "      <th>company_size</th>\n",
              "      <th></th>\n",
              "      <th></th>\n",
              "      <th></th>\n",
              "      <th></th>\n",
              "      <th></th>\n",
              "      <th></th>\n",
              "      <th></th>\n",
              "      <th></th>\n",
              "    </tr>\n",
              "  </thead>\n",
              "  <tbody>\n",
              "    <tr>\n",
              "      <th>L</th>\n",
              "      <td>44.0</td>\n",
              "      <td>96297.75</td>\n",
              "      <td>54872.66</td>\n",
              "      <td>13400.0</td>\n",
              "      <td>47620.25</td>\n",
              "      <td>90734.0</td>\n",
              "      <td>135000.0</td>\n",
              "      <td>215300.0</td>\n",
              "    </tr>\n",
              "    <tr>\n",
              "      <th>M</th>\n",
              "      <td>77.0</td>\n",
              "      <td>126380.75</td>\n",
              "      <td>56389.53</td>\n",
              "      <td>4000.0</td>\n",
              "      <td>90000.00</td>\n",
              "      <td>130000.0</td>\n",
              "      <td>165000.0</td>\n",
              "      <td>260000.0</td>\n",
              "    </tr>\n",
              "    <tr>\n",
              "      <th>S</th>\n",
              "      <td>21.0</td>\n",
              "      <td>51925.76</td>\n",
              "      <td>33216.29</td>\n",
              "      <td>2859.0</td>\n",
              "      <td>21669.00</td>\n",
              "      <td>49268.0</td>\n",
              "      <td>82500.0</td>\n",
              "      <td>105000.0</td>\n",
              "    </tr>\n",
              "  </tbody>\n",
              "</table>\n",
              "</div>"
            ],
            "text/plain": [
              "              count       mean       std      min       25%       50%  \\\n",
              "company_size                                                            \n",
              "L              44.0   96297.75  54872.66  13400.0  47620.25   90734.0   \n",
              "M              77.0  126380.75  56389.53   4000.0  90000.00  130000.0   \n",
              "S              21.0   51925.76  33216.29   2859.0  21669.00   49268.0   \n",
              "\n",
              "                   75%       max  \n",
              "company_size                      \n",
              "L             135000.0  215300.0  \n",
              "M             165000.0  260000.0  \n",
              "S              82500.0  105000.0  "
            ]
          },
          "execution_count": 103,
          "metadata": {},
          "output_type": "execute_result"
        }
      ],
      "source": [
        "data_agg = data1.groupby('company_size')['salary_in_usd'].describe().round(2)\n",
        "print('З.п. в зависимости от размера компании')\n",
        "data_agg"
      ]
    },
    {
      "cell_type": "markdown",
      "metadata": {
        "id": "y_SC_018yS76"
      },
      "source": [
        "Как видно, что средний уровень з.п. у средней компании, больше чем у крупной, но их и больше по количеству. Посмотрим график."
      ]
    },
    {
      "cell_type": "code",
      "execution_count": 86,
      "metadata": {},
      "outputs": [
        {
          "data": {
            "image/png": "[encoded data removed]",
            "text/plain": [
              "<Figure size 640x480 with 1 Axes>"
            ]
          },
          "metadata": {},
          "output_type": "display_data"
        }
      ],
      "source": [
        "ax = sns.boxplot(data1, x='salary_in_usd', y='company_size', orient='h', medianprops={\"color\": \"red\", \"linestyle\": '--'})\n",
        "ax.set(xlabel='Размер з.п.', ylabel='Размер компании')\n",
        "plt.title('Размер з.п. в зависимости от размера компании')\n",
        "plt.show()"
      ]
    },
    {
      "cell_type": "markdown",
      "metadata": {},
      "source": [
        "### З.п.(DS) в зависимости от опыта работы"
      ]
    },
    {
      "cell_type": "code",
      "execution_count": 88,
      "metadata": {},
      "outputs": [
        {
          "name": "stdout",
          "output_type": "stream",
          "text": [
            "З.п. в зависимости от опыта\n"
          ]
        },
        {
          "data": {
            "text/html": [
              "<div>\n",
              "<style scoped>\n",
              "    .dataframe tbody tr th:only-of-type {\n",
              "        vertical-align: middle;\n",
              "    }\n",
              "\n",
              "    .dataframe tbody tr th {\n",
              "        vertical-align: top;\n",
              "    }\n",
              "\n",
              "    .dataframe thead th {\n",
              "        text-align: right;\n",
              "    }\n",
              "</style>\n",
              "<table border=\"1\" class=\"dataframe\">\n",
              "  <thead>\n",
              "    <tr style=\"text-align: right;\">\n",
              "      <th></th>\n",
              "      <th>count</th>\n",
              "      <th>mean</th>\n",
              "      <th>std</th>\n",
              "      <th>min</th>\n",
              "      <th>25%</th>\n",
              "      <th>50%</th>\n",
              "      <th>75%</th>\n",
              "      <th>max</th>\n",
              "    </tr>\n",
              "    <tr>\n",
              "      <th>experience_level</th>\n",
              "      <th></th>\n",
              "      <th></th>\n",
              "      <th></th>\n",
              "      <th></th>\n",
              "      <th></th>\n",
              "      <th></th>\n",
              "      <th></th>\n",
              "      <th></th>\n",
              "    </tr>\n",
              "  </thead>\n",
              "  <tbody>\n",
              "    <tr>\n",
              "      <th>EN</th>\n",
              "      <td>22.0</td>\n",
              "      <td>55330.91</td>\n",
              "      <td>31237.82</td>\n",
              "      <td>4000.0</td>\n",
              "      <td>31474.0</td>\n",
              "      <td>50483.5</td>\n",
              "      <td>85027.25</td>\n",
              "      <td>105000.0</td>\n",
              "    </tr>\n",
              "    <tr>\n",
              "      <th>MI</th>\n",
              "      <td>60.0</td>\n",
              "      <td>82039.13</td>\n",
              "      <td>46869.58</td>\n",
              "      <td>2859.0</td>\n",
              "      <td>41768.0</td>\n",
              "      <td>77479.0</td>\n",
              "      <td>118264.75</td>\n",
              "      <td>200000.0</td>\n",
              "    </tr>\n",
              "    <tr>\n",
              "      <th>SE</th>\n",
              "      <td>60.0</td>\n",
              "      <td>148653.87</td>\n",
              "      <td>48806.50</td>\n",
              "      <td>20171.0</td>\n",
              "      <td>120000.0</td>\n",
              "      <td>140400.0</td>\n",
              "      <td>180000.00</td>\n",
              "      <td>260000.0</td>\n",
              "    </tr>\n",
              "  </tbody>\n",
              "</table>\n",
              "</div>"
            ],
            "text/plain": [
              "                  count       mean       std      min       25%       50%  \\\n",
              "experience_level                                                            \n",
              "EN                 22.0   55330.91  31237.82   4000.0   31474.0   50483.5   \n",
              "MI                 60.0   82039.13  46869.58   2859.0   41768.0   77479.0   \n",
              "SE                 60.0  148653.87  48806.50  20171.0  120000.0  140400.0   \n",
              "\n",
              "                        75%       max  \n",
              "experience_level                       \n",
              "EN                 85027.25  105000.0  \n",
              "MI                118264.75  200000.0  \n",
              "SE                180000.00  260000.0  "
            ]
          },
          "execution_count": 88,
          "metadata": {},
          "output_type": "execute_result"
        }
      ],
      "source": [
        "data_agg = data1.groupby('experience_level')['salary_in_usd'].describe().round(2)\n",
        "print('З.п. в зависимости от опыта')\n",
        "data_agg"
      ]
    },
    {
      "cell_type": "code",
      "execution_count": 98,
      "metadata": {},
      "outputs": [
        {
          "data": {
            "image/png": "[encoded data removed]",
            "text/plain": [
              "<Figure size 640x480 with 1 Axes>"
            ]
          },
          "metadata": {},
          "output_type": "display_data"
        }
      ],
      "source": [
        "ax = sns.boxplot(data1, x='salary_in_usd', y='experience_level', orient='h', medianprops={\"color\": \"red\", \"linestyle\": '--'})\n",
        "ax.set(xlabel='Размер з.п.', ylabel='Опыт работы')\n",
        "plt.title('Размер з.п. в зависимости от опыта работы')\n",
        "plt.show()"
      ]
    },
    {
      "cell_type": "markdown",
      "metadata": {},
      "source": [
        "### Зависимость з.п. (DS) от типа занятости"
      ]
    },
    {
      "cell_type": "code",
      "execution_count": 108,
      "metadata": {},
      "outputs": [
        {
          "name": "stdout",
          "output_type": "stream",
          "text": [
            "З.п. в зависимости от типа занятости\n"
          ]
        },
        {
          "data": {
            "text/html": [
              "<div>\n",
              "<style scoped>\n",
              "    .dataframe tbody tr th:only-of-type {\n",
              "        vertical-align: middle;\n",
              "    }\n",
              "\n",
              "    .dataframe tbody tr th {\n",
              "        vertical-align: top;\n",
              "    }\n",
              "\n",
              "    .dataframe thead th {\n",
              "        text-align: right;\n",
              "    }\n",
              "</style>\n",
              "<table border=\"1\" class=\"dataframe\">\n",
              "  <thead>\n",
              "    <tr style=\"text-align: right;\">\n",
              "      <th></th>\n",
              "      <th>count</th>\n",
              "      <th>mean</th>\n",
              "      <th>std</th>\n",
              "      <th>min</th>\n",
              "      <th>25%</th>\n",
              "      <th>50%</th>\n",
              "      <th>75%</th>\n",
              "      <th>max</th>\n",
              "    </tr>\n",
              "    <tr>\n",
              "      <th>employment_type</th>\n",
              "      <th></th>\n",
              "      <th></th>\n",
              "      <th></th>\n",
              "      <th></th>\n",
              "      <th></th>\n",
              "      <th></th>\n",
              "      <th></th>\n",
              "      <th></th>\n",
              "    </tr>\n",
              "  </thead>\n",
              "  <tbody>\n",
              "    <tr>\n",
              "      <th>FL</th>\n",
              "      <td>1.0</td>\n",
              "      <td>100000.00</td>\n",
              "      <td>NaN</td>\n",
              "      <td>100000.0</td>\n",
              "      <td>100000.00</td>\n",
              "      <td>100000.0</td>\n",
              "      <td>100000.00</td>\n",
              "      <td>100000.0</td>\n",
              "    </tr>\n",
              "    <tr>\n",
              "      <th>FT</th>\n",
              "      <td>139.0</td>\n",
              "      <td>106742.38</td>\n",
              "      <td>59189.76</td>\n",
              "      <td>2859.0</td>\n",
              "      <td>54724.00</td>\n",
              "      <td>104702.0</td>\n",
              "      <td>140850.00</td>\n",
              "      <td>260000.0</td>\n",
              "    </tr>\n",
              "    <tr>\n",
              "      <th>PT</th>\n",
              "      <td>2.0</td>\n",
              "      <td>60834.50</td>\n",
              "      <td>55388.38</td>\n",
              "      <td>21669.0</td>\n",
              "      <td>41251.75</td>\n",
              "      <td>60834.5</td>\n",
              "      <td>80417.25</td>\n",
              "      <td>100000.0</td>\n",
              "    </tr>\n",
              "  </tbody>\n",
              "</table>\n",
              "</div>"
            ],
            "text/plain": [
              "                 count       mean       std       min        25%       50%  \\\n",
              "employment_type                                                              \n",
              "FL                 1.0  100000.00       NaN  100000.0  100000.00  100000.0   \n",
              "FT               139.0  106742.38  59189.76    2859.0   54724.00  104702.0   \n",
              "PT                 2.0   60834.50  55388.38   21669.0   41251.75   60834.5   \n",
              "\n",
              "                       75%       max  \n",
              "employment_type                       \n",
              "FL               100000.00  100000.0  \n",
              "FT               140850.00  260000.0  \n",
              "PT                80417.25  100000.0  "
            ]
          },
          "execution_count": 108,
          "metadata": {},
          "output_type": "execute_result"
        }
      ],
      "source": [
        "data_agg = data1.groupby('employment_type')['salary_in_usd'].describe().round(2)\n",
        "print('З.п. в зависимости от типа занятости')\n",
        "data_agg"
      ]
    },
    {
      "cell_type": "markdown",
      "metadata": {},
      "source": [
        "Как видо из данных, для DS, нам актуальны только FT, так как FL и PT, по 1 и 2 сотрудникам соответственно. Но если сравнивать имеющиеся данные, то видна следующая тенденция роста з.п. FT-FL-PT. Посмтрим график. "
      ]
    },
    {
      "cell_type": "code",
      "execution_count": 109,
      "metadata": {},
      "outputs": [
        {
          "data": {
            "image/png": "[encoded data removed]",
            "text/plain": [
              "<Figure size 640x480 with 1 Axes>"
            ]
          },
          "metadata": {},
          "output_type": "display_data"
        }
      ],
      "source": [
        "ax = sns.boxplot(data1, x='salary_in_usd', y='employment_type', orient='h', medianprops={\"color\": \"red\", \"linestyle\": '--'})\n",
        "ax.set(xlabel='Размер з.п.', ylabel='Тип занятости')\n",
        "plt.title('Размер з.п. в зависимости от типа занятости')\n",
        "plt.show()"
      ]
    },
    {
      "cell_type": "markdown",
      "metadata": {},
      "source": [
        "### Зависимость з.п.(DS) от объема работы "
      ]
    },
    {
      "cell_type": "code",
      "execution_count": 15,
      "metadata": {},
      "outputs": [
        {
          "name": "stdout",
          "output_type": "stream",
          "text": [
            "З.п. в зависимости от объема работ удаленно\n"
          ]
        },
        {
          "data": {
            "text/html": [
              "<div>\n",
              "<style scoped>\n",
              "    .dataframe tbody tr th:only-of-type {\n",
              "        vertical-align: middle;\n",
              "    }\n",
              "\n",
              "    .dataframe tbody tr th {\n",
              "        vertical-align: top;\n",
              "    }\n",
              "\n",
              "    .dataframe thead th {\n",
              "        text-align: right;\n",
              "    }\n",
              "</style>\n",
              "<table border=\"1\" class=\"dataframe\">\n",
              "  <thead>\n",
              "    <tr style=\"text-align: right;\">\n",
              "      <th></th>\n",
              "      <th>count</th>\n",
              "      <th>mean</th>\n",
              "      <th>std</th>\n",
              "      <th>min</th>\n",
              "      <th>25%</th>\n",
              "      <th>50%</th>\n",
              "      <th>75%</th>\n",
              "      <th>max</th>\n",
              "    </tr>\n",
              "    <tr>\n",
              "      <th>remote_ratio</th>\n",
              "      <th></th>\n",
              "      <th></th>\n",
              "      <th></th>\n",
              "      <th></th>\n",
              "      <th></th>\n",
              "      <th></th>\n",
              "      <th></th>\n",
              "      <th></th>\n",
              "    </tr>\n",
              "  </thead>\n",
              "  <tbody>\n",
              "    <tr>\n",
              "      <th>0</th>\n",
              "      <td>38.0</td>\n",
              "      <td>98444.97</td>\n",
              "      <td>58647.60</td>\n",
              "      <td>2859.0</td>\n",
              "      <td>49781.25</td>\n",
              "      <td>93582.0</td>\n",
              "      <td>139050.0</td>\n",
              "      <td>215300.0</td>\n",
              "    </tr>\n",
              "    <tr>\n",
              "      <th>50</th>\n",
              "      <td>24.0</td>\n",
              "      <td>73827.83</td>\n",
              "      <td>36204.18</td>\n",
              "      <td>20171.0</td>\n",
              "      <td>47783.75</td>\n",
              "      <td>62726.0</td>\n",
              "      <td>102250.0</td>\n",
              "      <td>147000.0</td>\n",
              "    </tr>\n",
              "    <tr>\n",
              "      <th>100</th>\n",
              "      <td>67.0</td>\n",
              "      <td>112073.87</td>\n",
              "      <td>61329.08</td>\n",
              "      <td>5679.0</td>\n",
              "      <td>60412.00</td>\n",
              "      <td>105000.0</td>\n",
              "      <td>159100.0</td>\n",
              "      <td>260000.0</td>\n",
              "    </tr>\n",
              "  </tbody>\n",
              "</table>\n",
              "</div>"
            ],
            "text/plain": [
              "              count       mean       std      min       25%       50%  \\\n",
              "remote_ratio                                                            \n",
              "0              38.0   98444.97  58647.60   2859.0  49781.25   93582.0   \n",
              "50             24.0   73827.83  36204.18  20171.0  47783.75   62726.0   \n",
              "100            67.0  112073.87  61329.08   5679.0  60412.00  105000.0   \n",
              "\n",
              "                   75%       max  \n",
              "remote_ratio                      \n",
              "0             139050.0  215300.0  \n",
              "50            102250.0  147000.0  \n",
              "100           159100.0  260000.0  "
            ]
          },
          "execution_count": 15,
          "metadata": {},
          "output_type": "execute_result"
        }
      ],
      "source": [
        "data_agg = data1.groupby('remote_ratio')['salary_in_usd'].describe().round(2)\n",
        "print('З.п. в зависимости от объема работ удаленно')\n",
        "data_agg"
      ]
    },
    {
      "cell_type": "markdown",
      "metadata": {},
      "source": [
        "Видно, что самый высокий уровень з.п. у тех, у кого уровень удаленной работы, составляет 100, то есть более 80%  работы выполняется удаленно. Затем идет отсутствие удаленной работы. При этом минимальный уровень з.п. самый высокий у уровня 50. Посмотрим график."
      ]
    },
    {
      "cell_type": "code",
      "execution_count": 113,
      "metadata": {},
      "outputs": [
        {
          "data": {
            "image/png": "[encoded data removed]",
            "text/plain": [
              "<Figure size 640x480 with 1 Axes>"
            ]
          },
          "metadata": {},
          "output_type": "display_data"
        }
      ],
      "source": [
        "ax = sns.boxplot(data1, x='salary_in_usd', y='remote_ratio', orient='h', medianprops={\"color\": \"red\", \"linestyle\": '--'})\n",
        "ax.set(xlabel='Размер з.п.', ylabel='Объем работ удаленно в%')\n",
        "plt.title('Размер з.п. в зависимости от объема работ удаленно')\n",
        "plt.show()"
      ]
    },
    {
      "cell_type": "markdown",
      "metadata": {
        "id": "-UcttLBPfd8-"
      },
      "source": [
        "## Статистический анализ данных\n",
        "\n"
      ]
    },
    {
      "cell_type": "code",
      "execution_count": 11,
      "metadata": {
        "id": "sn3PGE23l7Ze"
      },
      "outputs": [],
      "source": [
        "# функция для принятия решения о нормальности\n",
        "def decision_normality(p):\n",
        "    print('p-value = {:.3f}'.format(p))\n",
        "    if p <= alpha:\n",
        "        print('p-значение меньше, чем заданный уровень значимости {:.2f}. Распределение отлично от нормального'.format(alpha))\n",
        "    else:\n",
        "        print('p-значение больше, чем заданный уровень значимости {:.2f}. Распределение является нормальным'.format(alpha))\n",
        "\n",
        "\n",
        "# функция для принятия решения об отклонении нулевой гипотезы\n",
        "def decision_hypothesis(p):\n",
        "    print('p-value = {:.3f}'.format(p))\n",
        "    if p <= alpha:\n",
        "        print('p-значение меньше, чем заданный уровень значимости {:.2f}. Отвергаем нулевую гипотезу в пользу альтернативной.'.format(alpha))\n",
        "    else:\n",
        "        print('p-значение больше, чем заданный уровень значимости {:.2f}. У нас нет оснований отвергнуть нулевую гипотезу.'.format(alpha))\n",
        "      "
      ]
    },
    {
      "cell_type": "markdown",
      "metadata": {
        "id": "zxbl3BYLGKIW"
      },
      "source": [
        "### 1. Наблюдается ли ежегодный рост зарплат у специалистов Data Scientist?\n",
        "\n",
        "**Сформулируем нулевую и альтернативные гипотезы**\n",
        "\n",
        "*Нулевая гипотеза* ($H_0$): размер зарплаты года ($μ_1$) статистически меньше либо равен размеру зарплаты предыдущего года ($μ_2$).\n",
        "\n",
        "$$ H_0 : μ_1 <= μ_2$$\n",
        "\n",
        "*Альтернативная гипотеза* ($H_1$): размер зарплаты года ($μ_1$) статистически больше, чем размер зарплаты предыдущего года ($μ_2$).\n",
        "\n",
        "$$ H_1 : μ_1 > μ_2$$"
      ]
    },
    {
      "cell_type": "markdown",
      "metadata": {
        "id": "Yi8l7ZWSl7Ze"
      },
      "source": [
        "**Проверка на нормальность**\n",
        "\n",
        "С помощью теста Шапиро-Уилка проверим, распределён ли признак нормально. Напомним гипотезы теста Шапиро-Уилка:\n",
        "\n",
        "*Нулевая гипотеза* ($H_0$): распределение данные является нормальным.\n",
        "\n",
        "*Альтернативная гипотеза* ($H_1$): распределение данных отлично от нормального."
      ]
    },
    {
      "cell_type": "code",
      "execution_count": 12,
      "metadata": {
        "colab": {
          "base_uri": "https://localhost:8080/"
        },
        "id": "bCxAGItPTHRe",
        "outputId": "334716f4-96c7-4a21-ca5f-c7d352adde2b"
      },
      "outputs": [
        {
          "name": "stdout",
          "output_type": "stream",
          "text": [
            "Для 2020:\n",
            "p-value = 0.145\n",
            "p-значение больше, чем заданный уровень значимости 0.05. Распределение является нормальным\n",
            "Для 2021:\n",
            "p-value = 0.107\n",
            "p-значение больше, чем заданный уровень значимости 0.05. Распределение является нормальным\n",
            "Для 2022:\n",
            "p-value = 0.676\n",
            "p-значение больше, чем заданный уровень значимости 0.05. Распределение является нормальным\n"
          ]
        }
      ],
      "source": [
        "# значения з.п. от года\n",
        "salary_2020 = data1[data1['work_year']==2020]['salary_in_usd']\n",
        "salary_2021 = data1[data1['work_year']==2021]['salary_in_usd']\n",
        "salary_2022 = data1[data1['work_year']==2022]['salary_in_usd']\n",
        "\n",
        "# проводим тест Шапиро-Уилка\n",
        "print('Для 2020:')\n",
        "result = stats.shapiro(salary_2020)\n",
        "decision_normality(result[1])\n",
        "\n",
        "print('Для 2021:')\n",
        "result = stats.shapiro(salary_2021)\n",
        "decision_normality(result[1])\n",
        "\n",
        "print('Для 2022:')\n",
        "result = stats.shapiro(salary_2022)\n",
        "decision_normality(result[1])\n",
        "\n"
      ]
    },
    {
      "cell_type": "markdown",
      "metadata": {},
      "source": [
        "**Выберем подходящий статистический тест**\n",
        "\n",
        "Для выбора нужного теста воспользуемся алгоритмом выбора теста. Для этого ответим на следующие вопросы:\n",
        "* Какой тип у признака «Размер заработной платы»? — Количественный.\n",
        "* Сколько сравниваемых групп? — Три.\n",
        "* Группы зависимы? — Нет.\n",
        "* Признак распределён по нормальному закону? — Да.\n",
        "\n",
        "Чтобы проверить нашу гипотезу, можно использовать ОДнофакторный дисперсионный анализ ANOVA.\n",
        "\n",
        "**Проведём тест**"
      ]
    },
    {
      "cell_type": "code",
      "execution_count": 20,
      "metadata": {},
      "outputs": [
        {
          "name": "stdout",
          "output_type": "stream",
          "text": [
            "p-value = 0.000\n",
            "p-значение меньше, чем заданный уровень значимости 0.05. Отвергаем нулевую гипотезу в пользу альтернативной.\n"
          ]
        }
      ],
      "source": [
        "# проводим тест\n",
        "_, p = stats.f_oneway(salary_2020, salary_2021, salary_2022)\n",
        "decision_hypothesis(p)"
      ]
    },
    {
      "cell_type": "markdown",
      "metadata": {},
      "source": [
        "### Вывод\n",
        "Зарплаты года увеличиваются по сравнению с предыдущим годом.\n"
      ]
    },
    {
      "cell_type": "markdown",
      "metadata": {},
      "source": [
        "### 2. Как соотносятся зарплаты Data Scientist и Data Engineer в 2022 году?\n",
        "\n",
        "**Сформулируем нулевую и альтернативные гипотезы**\n",
        "\n",
        "*Нулевая гипотеза* ($H_0$): размер зарплаты DE ($μ_1$) статистически меньше либо равны размеру зарплаты DS в 2022 году ($μ_2$).\n",
        "\n",
        "$$ H_0 : μ_1 <= μ_2$$\n",
        "\n",
        "*Альтернативная гипотеза* ($H_1$): размер зарплаты DE в 2022 году ($μ_1$) статистически больше, чем размер зарплаты DS в 2022 году ($μ_2$).\n",
        "\n",
        "$$ H_1 : μ_1 > μ_2$$"
      ]
    },
    {
      "cell_type": "markdown",
      "metadata": {},
      "source": [
        "**Проверка на нормальность**\n",
        "\n",
        "С помощью теста Шапиро-Уилка проверим, распределён ли признак нормально. Напомним гипотезы теста Шапиро-Уилка:\n",
        "\n",
        "*Нулевая гипотеза* ($H_0$): распределение данные является нормальным.\n",
        "\n",
        "*Альтернативная гипотеза* ($H_1$): распределение данных отлично от нормального."
      ]
    },
    {
      "cell_type": "code",
      "execution_count": 15,
      "metadata": {},
      "outputs": [
        {
          "name": "stdout",
          "output_type": "stream",
          "text": [
            "Для DS:\n",
            "p-value = 0.676\n",
            "p-значение больше, чем заданный уровень значимости 0.05. Распределение является нормальным\n",
            "Для DE:\n",
            "p-value = 0.021\n",
            "p-значение меньше, чем заданный уровень значимости 0.05. Распределение отлично от нормального\n"
          ]
        }
      ],
      "source": [
        "# значения з.п. по DS и DE на 2022 \n",
        "salary_DS_2022 = data1[data1['work_year']==2022]['salary_in_usd']\n",
        "salary_DE_2022 = data2[data2['work_year']==2022]['salary_in_usd']\n",
        "\n",
        "# проводим тест Шапиро-Уилка\n",
        "print('Для DS:')\n",
        "result = stats.shapiro(salary_DS_2022)\n",
        "decision_normality(result[1])\n",
        "\n",
        "print('Для DE:')\n",
        "result = stats.shapiro(salary_DE_2022)\n",
        "decision_normality(result[1])\n"
      ]
    },
    {
      "cell_type": "markdown",
      "metadata": {},
      "source": [
        "**Выберем подходящий статистический тест**\n",
        "\n",
        "Для выбора нужного теста воспользуемся алгоритмом выбора теста. Для этого ответим на следующие вопросы:\n",
        "* Какой тип у признака «Размер заработной платы»? — Количественный.\n",
        "* Сколько сравниваемых групп? — Две.\n",
        "* Группы зависимы? — Нет.\n",
        "* Признак распределён по нормальному закону? — Да.\n",
        "\n",
        "Чтобы проверить нашу гипотезу, можно использовать ОДнофакторный дисперсионный анализ ANOVA.\n",
        "\n",
        "**Проведём тест**"
      ]
    },
    {
      "cell_type": "code",
      "execution_count": 22,
      "metadata": {},
      "outputs": [
        {
          "name": "stdout",
          "output_type": "stream",
          "text": [
            "p-value = 0.157\n",
            "p-значение больше, чем заданный уровень значимости 0.05. У нас нет оснований отвергнуть нулевую гипотезу.\n"
          ]
        }
      ],
      "source": [
        "_, p = stats.ttest_ind(salary_DS_2022, salary_DE_2022, alternative='greater', equal_var=True)\n",
        "decision_hypothesis(p)"
      ]
    },
    {
      "cell_type": "markdown",
      "metadata": {},
      "source": [
        "## Вывод\n",
        "Заработная плата у DE меньше либо равна з.п. DS"
      ]
    },
    {
      "cell_type": "markdown",
      "metadata": {},
      "source": [
        "### 3. Как соотносятся зарплаты специалистов Data Scientist в компаниях различных размеров?\n",
        "**Сформулируем нулевую и альтернативные гипотезы**\n",
        "\n",
        "*Нулевая гипотеза* ($H_0$): размер зарплаты DS в меньших компаниях ($μ_1$) статистически меньше размера зарплаты DS в крупных компаниях ($μ_2$).\n",
        "\n",
        "$$ H_0 : μ_1 <= μ_2$$\n",
        "\n",
        "*Альтернативная гипотеза* ($H_1$): размер зарплаты DS в меньших компаниях ($μ_1$) статистически больше размера зарплаты DS в крупных компаниях ($μ_2$).\n",
        "\n",
        "$$ H_1 : μ_1 > μ_2$$"
      ]
    },
    {
      "cell_type": "markdown",
      "metadata": {},
      "source": [
        "**Проверка на нормальность**\n",
        "\n",
        "С помощью теста Шапиро-Уилка проверим, распределён ли признак нормально. Напомним гипотезы теста Шапиро-Уилка:\n",
        "\n",
        "*Нулевая гипотеза* ($H_0$): распределение данные является нормальным.\n",
        "\n",
        "*Альтернативная гипотеза* ($H_1$): распределение данных отлично от нормального."
      ]
    },
    {
      "cell_type": "code",
      "execution_count": 28,
      "metadata": {},
      "outputs": [
        {
          "name": "stdout",
          "output_type": "stream",
          "text": [
            "Для S:\n",
            "p-value = 0.189\n",
            "p-значение больше, чем заданный уровень значимости 0.05. Распределение является нормальным\n",
            "Для M:\n",
            "p-value = 0.897\n",
            "p-значение больше, чем заданный уровень значимости 0.05. Распределение является нормальным\n",
            "Для L:\n",
            "p-value = 0.030\n",
            "p-значение меньше, чем заданный уровень значимости 0.05. Распределение отлично от нормального\n"
          ]
        }
      ],
      "source": [
        "# значения з.п. по DS и DE на 2022 \n",
        "salary_DS_S = data1[data1['company_size']=='S']['salary_in_usd']\n",
        "salary_DS_M = data1[data1['company_size']=='M']['salary_in_usd']\n",
        "salary_DS_L = data1[data1['company_size']=='L']['salary_in_usd']\n",
        "\n",
        "# проводим тест Шапиро-Уилка\n",
        "print('Для S:')\n",
        "result = stats.shapiro(salary_DS_S)\n",
        "decision_normality(result[1])\n",
        "\n",
        "print('Для M:')\n",
        "result = stats.shapiro(salary_DS_M)\n",
        "decision_normality(result[1])\n",
        "\n",
        "print('Для L:')\n",
        "result = stats.shapiro(salary_DS_L)\n",
        "decision_normality(result[1])"
      ]
    },
    {
      "cell_type": "markdown",
      "metadata": {},
      "source": [
        "**Выберем подходящий статистический тест**\n",
        "\n",
        "Для выбора нужного теста воспользуемся алгоритмом выбора теста. Для этого ответим на следующие вопросы:\n",
        "* Какой тип у признака «Размер заработной платы»? — Количественный.\n",
        "* Сколько сравниваемых групп? — Три.\n",
        "* Группы зависимы? — Да.\n",
        "* Признак распределён по нормальному закону? — Нет.\n",
        "\n",
        "Чтобы проверить нашу гипотезу, можно использовать критерий Фридмана.\n",
        "\n",
        "**Проведём тест**"
      ]
    },
    {
      "cell_type": "code",
      "execution_count": null,
      "metadata": {},
      "outputs": [],
      "source": []
    },
    {
      "cell_type": "markdown",
      "metadata": {},
      "source": [
        "### 4. Есть ли связь между наличием должностей Data Scientist и Data Engineer и размером компании?\n",
        "**Сформулируем нулевую и альтернативные гипотезы**\n",
        "\n",
        "*Нулевая гипотеза* ($H_0$): наличие должностей DS и DE ($μ_1$) не зависит от размера компании ($μ_2$).\n",
        "\n",
        "$$ H_0 : μ_1 <= μ_2$$\n",
        "\n",
        "*Альтернативная гипотеза* ($H_1$): размер зарплаты DS в меньших компаниях ($μ_1$) статистически больше размера зарплаты DS в крупных компаниях ($μ_2$).\n",
        "\n",
        "$$ H_1 : μ_1 > μ_2$$"
      ]
    },
    {
      "cell_type": "markdown",
      "metadata": {},
      "source": [
        "**Проверка на нормальность**\n",
        "\n",
        "С помощью теста Шапиро-Уилка проверим, распределён ли признак нормально. Напомним гипотезы теста Шапиро-Уилка:\n",
        "\n",
        "*Нулевая гипотеза* ($H_0$): распределение данные является нормальным.\n",
        "\n",
        "*Альтернативная гипотеза* ($H_1$): распределение данных отлично от нормального."
      ]
    },
    {
      "cell_type": "code",
      "execution_count": null,
      "metadata": {},
      "outputs": [],
      "source": [
        "s = cleaned_data.loc[(cleaned_data['job_title']=='Data Scientist') | (cleaned_data['job_title']=='Data Engineer')]\n",
        "s"
      ]
    },
    {
      "cell_type": "code",
      "execution_count": 68,
      "metadata": {},
      "outputs": [
        {
          "name": "stdout",
          "output_type": "stream",
          "text": [
            "p-value = 0.000\n",
            "p-значение меньше, чем заданный уровень значимости 0.05. Распределение отлично от нормального\n"
          ]
        }
      ],
      "source": [
        "# значения з.п. по DS и DE на 2022 \n",
        "table = pd.crosstab(s['job_title'], s['company_size'])\n",
        "\n",
        "# проводим тест\n",
        "_, p, _, _ = stats.chi2_contingency(table)\n",
        "decision_normality(result[1])\n"
      ]
    }
  ],
  "metadata": {
    "colab": {
      "provenance": []
    },
    "kernelspec": {
      "display_name": "Python 3.10.8 ('base')",
      "language": "python",
      "name": "python3"
    },
    "language_info": {
      "codemirror_mode": {
        "name": "ipython",
        "version": 3
      },
      "file_extension": ".py",
      "mimetype": "text/x-python",
      "name": "python",
      "nbconvert_exporter": "python",
      "pygments_lexer": "ipython3",
      "version": "3.11.5"
    },
    "vscode": {
      "interpreter": {
        "hash": "86c56a74836ad344b00594bf6f38fa6a676a207ceefe20d101fbc465800ccb8d"
      }
    }
  },
  "nbformat": 4,
  "nbformat_minor": 0
}
