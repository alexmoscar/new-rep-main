{
 "cells": [
  {
   "cell_type": "code",
   "execution_count": 10,
   "metadata": {},
   "outputs": [
    {
     "name": "stdout",
     "output_type": "stream",
     "text": [
      "Кура price 40\n",
      "Кура weight 300\n",
      "Кура class Мясо\n",
      "Греча price 20\n",
      "Греча weight 200\n",
      "Греча class Крупа\n"
     ]
    },
    {
     "data": {
      "text/plain": [
       "[<Element 'dish' at 0x0000023C59E9F290>,\n",
       " <Element 'dish' at 0x0000023C5C28C680>]"
      ]
     },
     "metadata": {},
     "output_type": "display_data"
    }
   ],
   "source": [
    "import xml.etree.ElementTree as ET # Импортируем модуль ElementTree\n",
    "#Для работы со структурой файла menu.xml считаем его содержимое в переменную tree, выполнив код:\n",
    "tree = ET.parse('menu.xml')\n",
    "#Запишем в переменную root корневой узел дерева tree и посмотрим, как выглядит содержимое переменной root, для чего выполним код:\n",
    "root = tree.getroot()\n",
    "#Для того чтобы посмотреть список потомков корневого узла, выполним следующий код:\n",
    "#display(list(root)) #Если у узла нет потомков, то вернётся пустой список — [].\n",
    "#Для того чтобы получить список потомков второго блюда в нашем меню и вывести его на экран, выполним код:\n",
    "#display(list(root[1]))\n",
    "#Выведем на экран атрибуты первого блюда из меню:\n",
    "#display(root[0].attrib)\n",
    "#Возьмём узел price первого блюда из меню:\n",
    "#display(root[0][0])\n",
    "#Теперь прочитаем значение этого узла с помощью text:\n",
    "#display(root[0][0].text)\n",
    "#Если вы хотите прочитать наименование тега конкретного узла, необходимо использовать tag.\n",
    "#display(root[0][2].tag)\n",
    "\n",
    "#Решим задачу вывода на экран наименование всех блюд из меню, а также информацию о них\n",
    "for dish in root:\n",
    "    for param in dish:\n",
    "        #print(dish.attrib['name'], param.tag, param.text)\n",
    "    #print() \n",
    "\n",
    "                        #ЗАГРУЖАЕМ ДАННЫЕ ИЗ XML-ФАЙЛА В DATAFRAME\n",
    "import xml.etree.ElementTree as ET\n",
    "tree = ET.parse('menu.xml')\n",
    "root = tree.getroot()\n",
    "import pandas as pd\n",
    "column_names = ['name', 'price', 'weight', 'class']\n",
    "df_list = []\n",
    "for dish in root:\n",
    "    row = [dish.attrib['name'], dish[0].text, dish[1].text, dish[2].text]\n",
    "    df_list.append(row)\n",
    "df = pd.DataFrame(df_list, columns=column_names)\n",
    "#display(df)\n",
    "\n",
    "                    #Воссоздадим структуру нашего исходного XML-файла с нуля\n",
    "#Чтобы создать корень дерева, используем метод Element() из класса ElementTree:\n",
    "import xml.etree.ElementTree as ET\n",
    "new_root = ET.Element('menu')\n",
    "#display(new_root)\n",
    "\n",
    "#Теперь мы можем добавлять новые узлы в наше дерево, используя метод SubElement() из того же класса.\n",
    "#Добавим в наше меню двух потомков корневого узла, которые будут представлять два блюда, то есть будут узлами dish:\n",
    "dish1 = ET.SubElement(new_root, 'dish', name='Кура')\n",
    "dish2 = ET.SubElement(new_root, 'dish', name='Греча')\n",
    "#display(list(new_root))\n",
    "new_root_string = ET.tostring(new_root)with open(\"new_menu.xml\", \"wb\") as f:\n",
    "    f.write(new_root_string)\n",
    "\n",
    "#Возможно, будет проблема, связанная с кодировкой. Тогда нужно записать файл, используя сам класс ElementTree() :\n",
    "ET.ElementTree(new_root).write('new_menu_good.xml', encoding=\"utf-8\")\n"
   ]
  }
 ],
 "metadata": {
  "kernelspec": {
   "display_name": "Python 3",
   "language": "python",
   "name": "python3"
  },
  "language_info": {
   "codemirror_mode": {
    "name": "ipython",
    "version": 3
   },
   "file_extension": ".py",
   "mimetype": "text/x-python",
   "name": "python",
   "nbconvert_exporter": "python",
   "pygments_lexer": "ipython3",
   "version": "3.11.3"
  },
  "orig_nbformat": 4
 },
 "nbformat": 4,
 "nbformat_minor": 2
}
