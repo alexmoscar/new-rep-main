{
 "cells": [
  {
   "cell_type": "code",
   "execution_count": 21,
   "metadata": {},
   "outputs": [
    {
     "name": "stdout",
     "output_type": "stream",
     "text": [
      "                                                 rating\n",
      "title                                                  \n",
      "Shawshank Redemption, The (1994)               4.446990\n",
      "Godfather, The (1972)                          4.364732\n",
      "Usual Suspects, The (1995)                     4.334372\n",
      "Schindler's List (1993)                        4.310175\n",
      "Godfather: Part II, The (1974)                 4.275641\n",
      "Seven Samurai (Shichinin no samurai) (1954)    4.274180\n",
      "Rear Window (1954)                             4.271334\n",
      "Band of Brothers (2001)                        4.263182\n",
      "Casablanca (1942)                              4.258327\n",
      "Sunset Blvd. (a.k.a. Sunset Boulevard) (1950)  4.256935\n"
     ]
    }
   ],
   "source": [
    "import pandas as pd\n",
    "\n",
    "movies = pd.read_csv(\"movie.csv\")\n",
    "rating = pd.read_csv(\"dst-3.0_mathml_14_5_rating.csv\")\n",
    "#объединим две таблицы\n",
    "df=pd.merge(rating,movies, how='left',on='movieId')\n",
    "#Подсчитайте, сколько раз каждый фильм встречается в наборе данных. Отметьте среди перечисленных ниже фильмов те,\n",
    "# что встречаются в топ-5 по популярности.\n",
    "movie_popularity = df[\"title\"].value_counts()\n",
    "#print(movie_popularity.head().index)\n",
    "\n",
    "#Найдите средний рейтинг для каждого из фильмов.\n",
    "average_rating_df = df[[\"title\", \"rating\"]].groupby('title').mean()\n",
    "#average_rating_df\n",
    "\n",
    "#Найдите фильмы с наивысшим средним рейтингом.\n",
    "sorted_average_ratings = average_rating_df.sort_values(by=[\"rating\",'title'], ascending=False)\n",
    "#sorted_average_ratings.head(10)\n",
    "\n",
    "#средний рейтинг только для фильмов, которые были оценены более 50 раз.\n",
    "movie_popularity = df[\"title\"].value_counts()\n",
    "popular_movies = movie_popularity[movie_popularity > 50].index\n",
    "#print(popular_movies.shape[0])\n",
    "\n",
    "#Постройте простейшую рекомендацию: возьмите фильмы, которые смотрели более 50 раз,\n",
    "# и найдите среди них фильм с наивысшей средней оценкой. В качестве ответа запишите название этого фильма без артикля и года выхода на экран.\n",
    "movie_popularity = df[\"title\"].value_counts()\n",
    "popular_movies = movie_popularity[movie_popularity > 50].index\n",
    "df2 = df[df.title.isin(popular_movies)]\n",
    "average_rating_df2 = df2[[\"title\", \"rating\"]].groupby('title').mean()\n",
    "\n",
    "sorted_average_ratings = average_rating_df2.sort_values(by=[\"rating\",'title'], ascending=False)\n",
    "\n",
    "print(sorted_average_ratings.head(10))"
   ]
  }
 ],
 "metadata": {
  "kernelspec": {
   "display_name": "Python 3",
   "language": "python",
   "name": "python3"
  },
  "language_info": {
   "codemirror_mode": {
    "name": "ipython",
    "version": 3
   },
   "file_extension": ".py",
   "mimetype": "text/x-python",
   "name": "python",
   "nbconvert_exporter": "python",
   "pygments_lexer": "ipython3",
   "version": "3.11.5"
  }
 },
 "nbformat": 4,
 "nbformat_minor": 2
}
