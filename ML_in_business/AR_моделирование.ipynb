{
 "cells": [
  {
   "cell_type": "markdown",
   "metadata": {},
   "source": [
    "Применим авторегрессионную модель к датасету по производству возобновляемой энергии в Германии. Набор данных включает общую информацию о потреблении электроэнергии в стране, а также о производстве ветровой и солнечной энергии за 2006–2017 годы.\n",
    "Признаки в данных:\n",
    "\n",
    "Date — дата (в формате гггг-мм-дд);\n",
    "Consumption — потребление электроэнергии (ГВтч);\n",
    "Wind — производство ветровой энергии (ГВтч);\n",
    "Solar — производство солнечной энергии (ГВтч);\n",
    "Wind+Solar — сумма производства ветровой и солнечной энергии (ГВтч).\n",
    "В качестве примера построим предсказание объёма потребления электроэнергии на три месяца (возьмём последние 100 дней).\n",
    "\n",
    "Импортируем необходимые библиотеки и загрузим датасет с данными."
   ]
  },
  {
   "cell_type": "code",
   "execution_count": 1,
   "metadata": {},
   "outputs": [],
   "source": [
    "import pandas as pd\n",
    "import numpy as np\n",
    "from statsmodels.tsa.ar_model import AutoReg\n",
    "\n",
    "url='https://raw.githubusercontent.com/jenfly/opsd/master/opsd_germany_daily.csv'\n",
    "df = pd.read_csv(url, sep=\",\")"
   ]
  },
  {
   "cell_type": "markdown",
   "metadata": {},
   "source": [
    "Проведём тест на стационарность."
   ]
  },
  {
   "cell_type": "code",
   "execution_count": 2,
   "metadata": {},
   "outputs": [
    {
     "name": "stdout",
     "output_type": "stream",
     "text": [
      "Ряд стационарен\n"
     ]
    }
   ],
   "source": [
    "from statsmodels.tsa.stattools import adfuller\n",
    "\n",
    "result = adfuller(df['Consumption'].values)\n",
    "\n",
    "if result[0] > result[4]['5%']: \n",
    "    print ('Ряд нестационарен')\n",
    "else:\n",
    "    print ('Ряд стационарен')"
   ]
  },
  {
   "cell_type": "markdown",
   "metadata": {},
   "source": [
    "При использовании статистических моделей временные ряды нельзя делить на обучающую и тестовую выборки случайным образом. Так как нам важно сохранять последовательность, разделим данные на обучающую и тестовую выборки упорядоченно, то есть возьмём в качестве тестовой выборки последние 100 значений. Остальные данные будем использовать для обучения."
   ]
  },
  {
   "cell_type": "code",
   "execution_count": 3,
   "metadata": {},
   "outputs": [],
   "source": [
    "train_data = df['Consumption'][:len(df)-100]\n",
    "test_data = df['Consumption'][len(df)-100:]"
   ]
  },
  {
   "cell_type": "markdown",
   "metadata": {},
   "source": [
    "Инициализируем и обучим модель. Возьмём lags=8 (AR(8)) — на практике же будем определять это значение по графику частичной автокорреляции:"
   ]
  },
  {
   "cell_type": "code",
   "execution_count": 4,
   "metadata": {},
   "outputs": [
    {
     "name": "stdout",
     "output_type": "stream",
     "text": [
      "                            AutoReg Model Results                             \n",
      "==============================================================================\n",
      "Dep. Variable:            Consumption   No. Observations:                 4283\n",
      "Model:                     AutoReg(8)   Log Likelihood              -24231.812\n",
      "Method:               Conditional MLE   S.D. of innovations             70.058\n",
      "Date:                Thu, 18 Jan 2024   AIC                          48483.625\n",
      "Time:                        10:07:13   BIC                          48547.230\n",
      "Sample:                             8   HQIC                         48506.095\n",
      "                                 4283                                         \n",
      "==================================================================================\n",
      "                     coef    std err          z      P>|z|      [0.025      0.975]\n",
      "----------------------------------------------------------------------------------\n",
      "const            121.2792     14.444      8.397      0.000      92.969     149.589\n",
      "Consumption.L1     0.6393      0.013     47.751      0.000       0.613       0.666\n",
      "Consumption.L2    -0.0966      0.011     -8.424      0.000      -0.119      -0.074\n",
      "Consumption.L3     0.0677      0.012      5.879      0.000       0.045       0.090\n",
      "Consumption.L4    -0.0538      0.012     -4.653      0.000      -0.076      -0.031\n",
      "Consumption.L5    -0.0092      0.012     -0.793      0.428      -0.032       0.014\n",
      "Consumption.L6     0.0619      0.012      5.371      0.000       0.039       0.085\n",
      "Consumption.L7     0.7832      0.011     68.283      0.000       0.761       0.806\n",
      "Consumption.L8    -0.4833      0.013    -36.107      0.000      -0.510      -0.457\n",
      "                                    Roots                                    \n",
      "=============================================================================\n",
      "                  Real          Imaginary           Modulus         Frequency\n",
      "-----------------------------------------------------------------------------\n",
      "AR.1           -0.9434           -0.4695j            1.0538           -0.4265\n",
      "AR.2           -0.9434           +0.4695j            1.0538            0.4265\n",
      "AR.3           -0.2332           -0.9929j            1.0199           -0.2867\n",
      "AR.4           -0.2332           +0.9929j            1.0199            0.2867\n",
      "AR.5            0.6323           -0.7958j            1.0164           -0.1431\n",
      "AR.6            0.6323           +0.7958j            1.0164            0.1431\n",
      "AR.7            1.0362           -0.0000j            1.0362           -0.0000\n",
      "AR.8            1.6730           -0.0000j            1.6730           -0.0000\n",
      "-----------------------------------------------------------------------------\n"
     ]
    }
   ],
   "source": [
    "ar_model = AutoReg(train_data, lags=8).fit()\n",
    "print(ar_model.summary())"
   ]
  },
  {
   "cell_type": "markdown",
   "metadata": {},
   "source": [
    "Сделаем предсказание. Метод predict требует два обязательных параметра — метки начала и окончания предсказания. Метка начала предсказания будет равна количеству данных в обучающей выборке, так как нас интересует прогноз со следующего дня. Метка окончания в нашем случае будет равна len(train_data)+100, что эквивалентно len(df)-1, так как len(df) = len(train_data) + len(test_data)."
   ]
  },
  {
   "cell_type": "code",
   "execution_count": null,
   "metadata": {},
   "outputs": [],
   "source": [
    "pred = ar_model.predict(start=len(train_data), end=(len(df)-1), dynamic=False)"
   ]
  }
 ],
 "metadata": {
  "kernelspec": {
   "display_name": "Python 3",
   "language": "python",
   "name": "python3"
  },
  "language_info": {
   "codemirror_mode": {
    "name": "ipython",
    "version": 3
   },
   "file_extension": ".py",
   "mimetype": "text/x-python",
   "name": "python",
   "nbconvert_exporter": "python",
   "pygments_lexer": "ipython3",
   "version": "3.11.5"
  }
 },
 "nbformat": 4,
 "nbformat_minor": 2
}
