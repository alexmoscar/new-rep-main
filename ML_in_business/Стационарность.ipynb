{
 "cells": [
  {
   "cell_type": "markdown",
   "metadata": {},
   "source": [
    "Рассмотрим пример проведения теста Дики — Фуллера на данных временного ряда Daily Total Female Births. В данных содержится количественная информация о девочках, рождённых за несколько месяцев. Для проведения теста будем использовать функцию adfuller() из пакета statsmodels."
   ]
  },
  {
   "cell_type": "code",
   "execution_count": 1,
   "metadata": {},
   "outputs": [
    {
     "name": "stdout",
     "output_type": "stream",
     "text": [
      "ADF Statistic: -4.808291253559765\n",
      "p-value: 5.2434129901498554e-05\n",
      "Critical Values:\n",
      "\t1%: -3.449\n",
      "\t5%: -2.870\n",
      "\t10%: -2.571\n"
     ]
    }
   ],
   "source": [
    "import pandas as pd\n",
    "from statsmodels.tsa.stattools import adfuller\n",
    "df = pd.read_csv(\n",
    "\t\"daily-total-female-births.csv\", \n",
    "    header=0, \n",
    "    index_col=0\n",
    ").squeeze(\"columns\")\n",
    "\n",
    "result = adfuller(df.values)\n",
    "\n",
    "print(f\"ADF Statistic: {result[0]}\")\n",
    "print(f\"p-value: {result[1]}\")\n",
    "print(\"Critical Values:\")\n",
    "\n",
    "for key, value in result[4].items():\n",
    "\tprint(f\"\\t{key}: {value:.3f}\")"
   ]
  },
  {
   "cell_type": "markdown",
   "metadata": {},
   "source": [
    "Значение статистики меньше всех критических значений: отвергаем нулевую гипотезу (H0), данные являются стационарными (не содержат тренда и сезонности)."
   ]
  },
  {
   "cell_type": "markdown",
   "metadata": {},
   "source": [
    "Если тест на стационарность показал, что ряд нестационарный и в нём присутствуют тренд и сезонность, необходимо избавиться от них.\n",
    "\n",
    "Обычно для этого достаточно взять разность рядов. Разность выполняется путём дифференцирования ряда, для этого вычисляется разность между двумя соседними наблюдениями ряда. Если полученная первая разность ряда окажется стационарной, то этот ряд называется интегрированным рядом первого порядка.\n",
    "\n",
    "Для определения порядка интегрированного ряда необходимо сделать следующее:"
   ]
  },
  {
   "cell_type": "code",
   "execution_count": 2,
   "metadata": {},
   "outputs": [
    {
     "name": "stdout",
     "output_type": "stream",
     "text": [
      "adf:  -12.625178633871355\n",
      "p-value:  1.5472400091969005e-23\n",
      "Critical values:  {'1%': -3.44880082033912, '5%': -2.869670179576637, '10%': -2.5711012838861036}\n",
      "ряд стационарен\n"
     ]
    }
   ],
   "source": [
    "#Получить новый ряд посредством взятия разности (применяем к необходимому датафрейму):\n",
    "df_diff_1 = df.diff().dropna()\n",
    "#Провести для нового ряда тест на стационарность (например, тест Дики — Фуллера):\n",
    "test1 = adfuller(df_diff_1)\n",
    "print ('adf: ', test1[0])\n",
    "print ('p-value: ', test1[1])\n",
    "print ('Critical values: ', test1[4])\n",
    "if test1[0]> test1[4]['5%']: \n",
    "    print ('ряд нестационарен')\n",
    "else:\n",
    "    print ('ряд стационарен')"
   ]
  }
 ],
 "metadata": {
  "kernelspec": {
   "display_name": "Python 3",
   "language": "python",
   "name": "python3"
  },
  "language_info": {
   "codemirror_mode": {
    "name": "ipython",
    "version": 3
   },
   "file_extension": ".py",
   "mimetype": "text/x-python",
   "name": "python",
   "nbconvert_exporter": "python",
   "pygments_lexer": "ipython3",
   "version": "3.11.5"
  }
 },
 "nbformat": 4,
 "nbformat_minor": 2
}
