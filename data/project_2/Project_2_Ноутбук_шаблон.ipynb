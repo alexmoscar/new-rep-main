{
  "cells": [
    {
      "cell_type": "markdown",
      "id": "42289889-bd57-434e-9637-d3e354756316",
      "metadata": {
        "id": "42289889-bd57-434e-9637-d3e354756316"
      },
      "source": [
        "<center> <img src = https://raw.githubusercontent.com/AndreyRysistov/DatasetsForPandas/main/hh%20label.jpg alt=\"drawing\" style=\"width:400px;\">"
      ]
    },
    {
      "cell_type": "markdown",
      "id": "829cb75b-f14e-4ba8-9195-7ba929a7d656",
      "metadata": {
        "id": "829cb75b-f14e-4ba8-9195-7ba929a7d656",
        "tags": []
      },
      "source": [
        "# <center> Проект: Анализ вакансий из HeadHunter\n",
        "   "
      ]
    },
    {
      "cell_type": "code",
      "execution_count": 47,
      "id": "dccfde33-2452-43fb-a8a5-5c6ebc02a71d",
      "metadata": {
        "id": "dccfde33-2452-43fb-a8a5-5c6ebc02a71d"
      },
      "outputs": [],
      "source": [
        "import pandas as pd\n",
        "import psycopg2"
      ]
    },
    {
      "cell_type": "code",
      "execution_count": 48,
      "id": "oVKH4ehvf8Ay",
      "metadata": {
        "id": "oVKH4ehvf8Ay"
      },
      "outputs": [],
      "source": [
        "DBNAME = 'project_sql'\n",
        "USER = 'skillfactory'\n",
        "PASSWORD = 'cCkxxLVrDE8EbvjueeMedPKt'\n",
        "HOST = '84.201.134.129'\n",
        "PORT = 5432"
      ]
    },
    {
      "cell_type": "code",
      "execution_count": 49,
      "id": "G4X_q8KBf7SF",
      "metadata": {
        "id": "G4X_q8KBf7SF"
      },
      "outputs": [],
      "source": [
        "connection = psycopg2.connect(\n",
        "    dbname=DBNAME,\n",
        "    user=USER,\n",
        "    host=HOST,\n",
        "    password=PASSWORD,\n",
        "    port=PORT\n",
        ")"
      ]
    },
    {
      "cell_type": "markdown",
      "id": "0dc6476b-7a00-44f1-ac93-6e3baed33a29",
      "metadata": {
        "id": "0dc6476b-7a00-44f1-ac93-6e3baed33a29"
      },
      "source": [
        "# Юнит 3. Предварительный анализ данных"
      ]
    },
    {
      "cell_type": "markdown",
      "id": "889782b6-8d1c-410e-8920-e57f27917c64",
      "metadata": {
        "id": "889782b6-8d1c-410e-8920-e57f27917c64"
      },
      "source": [
        "1. Напишите запрос, который посчитает количество вакансий в нашей базе (вакансии находятся в таблице vacancies). "
      ]
    },
    {
      "cell_type": "code",
      "execution_count": null,
      "id": "bc39e68e-ed02-4ee2-9235-7258a2f867a8",
      "metadata": {
        "id": "bc39e68e-ed02-4ee2-9235-7258a2f867a8"
      },
      "outputs": [],
      "source": [
        "query_3_1 = f'''select count(*) --#выбираем подсчет всех вакансий\n",
        "from vacancies --из таблицы вакансии\n",
        "'''\n",
        "df = pd.read_sql_query(query_3_1, connection)\n",
        "df"
      ]
    },
    {
      "cell_type": "markdown",
      "id": "1cb632ad",
      "metadata": {},
      "source": [
        "Результат: В базе находится 49197 вакансий"
      ]
    },
    {
      "cell_type": "markdown",
      "id": "b583485d-1f9e-494e-ada4-80ffff7c53d6",
      "metadata": {
        "id": "b583485d-1f9e-494e-ada4-80ffff7c53d6"
      },
      "source": [
        "2. Напишите запрос, который посчитает количество работодателей (таблица employers). "
      ]
    },
    {
      "cell_type": "code",
      "execution_count": null,
      "id": "5408c52c-3407-4a63-b25b-1aafa2322d28",
      "metadata": {
        "id": "5408c52c-3407-4a63-b25b-1aafa2322d28"
      },
      "outputs": [],
      "source": [
        "query_3_1 = f'''select count(*) --#также выбираем подсчет всех (*) \n",
        "from employers --#из таблицы работодателей\n",
        "'''\n",
        "df = pd.read_sql_query(query_3_1, connection)\n",
        "df"
      ]
    },
    {
      "cell_type": "markdown",
      "id": "d488cd14",
      "metadata": {},
      "source": [
        "Результат: В таблице находится 23501 работодатель"
      ]
    },
    {
      "cell_type": "markdown",
      "id": "a2bfff1f-c975-4bf6-84be-2185d79dcb76",
      "metadata": {
        "id": "a2bfff1f-c975-4bf6-84be-2185d79dcb76"
      },
      "source": [
        "3. Посчитате с помощью запроса количество регионов (таблица areas)."
      ]
    },
    {
      "cell_type": "code",
      "execution_count": null,
      "id": "1m8QJwBYhey6",
      "metadata": {
        "id": "1m8QJwBYhey6"
      },
      "outputs": [],
      "source": [
        "query_3_1 = f'''select count(*) --#также выбираем все\n",
        "from areas --#из таблицы регионов\n",
        "'''\n",
        "df = pd.read_sql_query(query_3_1, connection)\n",
        "df"
      ]
    },
    {
      "cell_type": "markdown",
      "id": "982292ad",
      "metadata": {},
      "source": [
        "Результат: В таблице 1362 региона"
      ]
    },
    {
      "cell_type": "markdown",
      "id": "41bb59f3-53cc-4a67-a5bc-bedf573955e4",
      "metadata": {
        "id": "41bb59f3-53cc-4a67-a5bc-bedf573955e4"
      },
      "source": [
        "4. Посчитате с помощью запроса количество сфер деятельности в базе (таблица industries)."
      ]
    },
    {
      "cell_type": "code",
      "execution_count": null,
      "id": "d286cf4c-707b-4cd2-9190-7ab3587d04a1",
      "metadata": {
        "id": "d286cf4c-707b-4cd2-9190-7ab3587d04a1"
      },
      "outputs": [],
      "source": [
        "query_3_1 = f'''select count(*)\n",
        "from industries\n",
        "'''\n",
        "df = pd.read_sql_query(query_3_1, connection)\n",
        "df"
      ]
    },
    {
      "cell_type": "markdown",
      "id": "aa0fd180",
      "metadata": {},
      "source": [
        "Результат: В таблице 294 сферы деятельности"
      ]
    },
    {
      "cell_type": "markdown",
      "id": "9a8a2181-6914-448b-85f1-38f5f18b8a93",
      "metadata": {
        "id": "9a8a2181-6914-448b-85f1-38f5f18b8a93"
      },
      "source": [
        "***"
      ]
    },
    {
      "cell_type": "markdown",
      "id": "68680790",
      "metadata": {},
      "source": [
        "Исходя из полученных данных, пользуясь усредненными показателями, можно заметить, что в среднем, на каждого работодателя приходится по 2 вакансии и на каждую сферу деятельности, которых 294, по 167 вакансий. В среднем, на каждый регион приходится по 36 вакансий и 17 работодателей."
      ]
    },
    {
      "cell_type": "markdown",
      "id": "8d62a9f3-f64e-4fe7-bdac-c4dffa16155e",
      "metadata": {
        "id": "8d62a9f3-f64e-4fe7-bdac-c4dffa16155e"
      },
      "source": [
        "# Юнит 4. Детальный анализ вакансий"
      ]
    },
    {
      "cell_type": "markdown",
      "id": "93053d3d-b284-481a-9cf7-012d7014c0e0",
      "metadata": {
        "id": "93053d3d-b284-481a-9cf7-012d7014c0e0"
      },
      "source": [
        "1. Напишите запрос, который позволит узнать, сколько (cnt) вакансий в каждом регионе (area).\n",
        "Отсортируйте по количеству вакансий в порядке убывания."
      ]
    },
    {
      "cell_type": "code",
      "execution_count": null,
      "id": "3f069da6-fdc9-4ae7-b514-fafe2675efd3",
      "metadata": {
        "id": "3f069da6-fdc9-4ae7-b514-fafe2675efd3"
      },
      "outputs": [],
      "source": [
        "query_3_1 = f'''select count(vacancies.id) as cnt, areas.name as area --#подсчитываем к-во вакансий и отправляем их в столбец cnt\n",
        "           from vacancies\n",
        "           join areas on vacancies.area_id = areas.id --#объединяем вакансии и регионы по общему признаку id\n",
        "           group by areas.name\n",
        "           order by cnt desc\n",
        "              Limit 5 --#выведем первые 5, чтобы не загромождать ответ\n",
        "                   '''\n",
        "df = pd.read_sql_query(query_3_1, connection)\n",
        "df"
      ]
    },
    {
      "cell_type": "code",
      "execution_count": null,
      "id": "0de2988a",
      "metadata": {},
      "outputs": [],
      "source": [
        "#Результат:\n",
        "#   cnt     area\n",
        "#0\t5333\tМосква\n",
        "#1\t2851\tСанкт-Петербург\n",
        "#2\t2112\tМинск\n",
        "#3\t2006\tНовосибирск\n",
        "#4\t1892\tАлматы"
      ]
    },
    {
      "cell_type": "markdown",
      "id": "4266f0b6-1646-492a-88b4-2f6a46502135",
      "metadata": {
        "id": "4266f0b6-1646-492a-88b4-2f6a46502135"
      },
      "source": [
        "2. Напишите запрос, чтобы определить у какого количества вакансий заполнено хотя бы одно из двух полей с зарплатой."
      ]
    },
    {
      "cell_type": "code",
      "execution_count": null,
      "id": "0c44b350-72eb-4d65-8b54-a1fc449ba9fd",
      "metadata": {
        "id": "0c44b350-72eb-4d65-8b54-a1fc449ba9fd"
      },
      "outputs": [],
      "source": [
        "query = f'''select count(vacancies.id) as cnt --#Посчитаем количество вакансий, поместим рез-т в столбец cnt\n",
        "           from vacancies\n",
        "           where salary_from is not null or salary_to is not null --#условие, где верхняя или нижняя зп. заполнена(not null)\n",
        "           \n",
        "        '''\n",
        "df = pd.read_sql_query(query, connection)\n",
        "df"
      ]
    },
    {
      "cell_type": "markdown",
      "id": "e375a1be",
      "metadata": {},
      "source": [
        "Результат: Хотя бы одно из двух полей с зарплатой заполнено у 24073 вакансий."
      ]
    },
    {
      "cell_type": "markdown",
      "id": "635c4d5d-f323-4c66-b428-50a088120aa0",
      "metadata": {
        "id": "635c4d5d-f323-4c66-b428-50a088120aa0"
      },
      "source": [
        "3. Найдите средние значения для нижней и верхней границы зарплатной вилки. Округлите значения до целого."
      ]
    },
    {
      "cell_type": "code",
      "execution_count": null,
      "id": "603cdbe4-0ec3-4106-8eaf-c73fcdd29165",
      "metadata": {
        "id": "603cdbe4-0ec3-4106-8eaf-c73fcdd29165"
      },
      "outputs": [],
      "source": [
        "#округляем(round), среднее значение(avg) для верхней и нижней границы з.п.\n",
        "query = f'''select round(avg(vacancies.salary_from)) as from, round(avg(vacancies.salary_to)) as to\n",
        "           from vacancies\n",
        "                     \n",
        "        '''\n",
        "df = pd.read_sql_query(query, connection)\n",
        "df"
      ]
    },
    {
      "cell_type": "markdown",
      "id": "d4ac4e50",
      "metadata": {},
      "source": [
        "Результат: Среднее значение нижней границы зарплатной вилки - 71.065 рублей, а верхней - 110.537 рублей"
      ]
    },
    {
      "cell_type": "markdown",
      "id": "f3fdaec9-5fd3-4260-9cf5-1d7406b628a5",
      "metadata": {
        "id": "f3fdaec9-5fd3-4260-9cf5-1d7406b628a5"
      },
      "source": [
        "4. Напишите запрос, который выведет количество вакансий для каждого сочетания типа рабочего графика (schedule) и типа трудоустройства (employment), используемого в вакансиях. Результат отсортируйте по убыванию количества.\n"
      ]
    },
    {
      "cell_type": "code",
      "execution_count": null,
      "id": "1ea710ec-871b-431e-9462-c7d0fd87011b",
      "metadata": {
        "id": "1ea710ec-871b-431e-9462-c7d0fd87011b"
      },
      "outputs": [],
      "source": [
        "query = f'''select count(id) as cnt, schedule, employment \n",
        "           from vacancies\n",
        "           group by schedule, employment\n",
        "           order by 1 desc\n",
        "           \n",
        "                     \n",
        "        '''\n",
        "df = pd.read_sql_query(query, connection)\n",
        "df"
      ]
    },
    {
      "cell_type": "code",
      "execution_count": null,
      "id": "abce5007",
      "metadata": {},
      "outputs": [],
      "source": [
        "# Результат:\n",
        "#\tcnt\t    schedule\t        employment\n",
        "#0\t35367   Полный день         Полная занятость\n",
        "#1\t7802    Удаленная работа    Полная занятость\n",
        "#2\t1593    Гибкий график       Полная занятость\n",
        "#3\t1312    Удаленная работа    Частичная занятость\n",
        "#4\t940\t    Сменный график      Полная занятость\n",
        "#5\t569\t    Полный день         Стажировка\n",
        "#6\t367\t    Вахтовый метод      Полная занятость\n",
        "#7\t347\t    Полный день         Частичная занятость\n",
        "#8\t312\t    Гибкий график       Частичная занятость\n",
        "#9\t141\t    Полный день         Проектная работа\n",
        "#10\t133\t    Удаленная работа    Проектная работа\n",
        "#11\t116\t    Гибкий график       Стажировка\n",
        "#12\t101\t    Сменный график      Частичная занятость\n",
        "#13\t64\t    Удаленная работа    Стажировка\n",
        "#14\t18\t    Гибкий график       Проектная работа\n",
        "#15\t12\t    Сменный график      Стажировка\n",
        "#16\t2\t    Вахтовый метод      Проектная работа\n",
        "#17\t1\t    Сменный график      Проектная работа"
      ]
    },
    {
      "cell_type": "markdown",
      "id": "0136ffee-0ead-4a6b-b608-61d1c753a438",
      "metadata": {
        "id": "0136ffee-0ead-4a6b-b608-61d1c753a438"
      },
      "source": [
        "5. Напишите запрос, выводящий значения поля Требуемый опыт работы (experience) в порядке возрастания количества вакансий, в которых указан данный вариант опыта. "
      ]
    },
    {
      "cell_type": "code",
      "execution_count": null,
      "id": "5b3a8e79-f7ab-4008-b767-12aea3a205ea",
      "metadata": {
        "id": "5b3a8e79-f7ab-4008-b767-12aea3a205ea"
      },
      "outputs": [],
      "source": [
        "query = f'''select count(id) as cnt, experience \n",
        "           from vacancies\n",
        "           group by experience\n",
        "           order by 1\n",
        "                     \n",
        "        '''\n",
        "df = pd.read_sql_query(query, connection)\n",
        "df"
      ]
    },
    {
      "cell_type": "code",
      "execution_count": null,
      "id": "e8dddd1a",
      "metadata": {},
      "outputs": [],
      "source": [
        "# Результат:\n",
        "#\tcnt     experience\n",
        "#0\t1337\tБолее 6 лет\n",
        "#1\t7197\tНет опыта\n",
        "#2\t14511\tОт 3 до 6 лет\n",
        "#3\t26152\tОт 1 года до 3 лет"
      ]
    },
    {
      "cell_type": "markdown",
      "id": "oq2b7n1QpIka",
      "metadata": {
        "id": "oq2b7n1QpIka"
      },
      "source": [
        "***"
      ]
    },
    {
      "cell_type": "markdown",
      "id": "be802450",
      "metadata": {},
      "source": [
        "Исходя из анализа вакансий, можно увидеть, что самое большое количество вакансий в крупных городах, таких как Москва, Санкт-Петербург, Минск...., и снижается до 1 вакансии в небольших городах, как Сасово, Бирск. В более половины вакансий не указана з.п. (24073 из 49197), что скорее всего свидетельствует о том, что уровень з.п. обсуждается на уровне собеседования. Средний уровень зарплаты колеблется от 71 по нижней границе, до 110 по верхней. Самый востребованный график работы - полный день/полная занятость. А все, что связано со стажировкой, частичной занятостью и вахтовым методом, количество вакансий заметно меньше. Также, видно, что самый востребованный опыт работы - от 1 года до 3 лет. Скорее всего, люди с опытом более 6 лет, стремятся на высокие позиции, которые, в данной таблице представлены в ограниченном количестве."
      ]
    },
    {
      "cell_type": "markdown",
      "id": "7ea20ab6-04a7-40a0-adec-443a0e5a42c3",
      "metadata": {
        "id": "7ea20ab6-04a7-40a0-adec-443a0e5a42c3"
      },
      "source": [
        "# Юнит 5. Анализ работодателей"
      ]
    },
    {
      "cell_type": "markdown",
      "id": "968aed80-74ef-4ffb-b5bf-c65b84e9caea",
      "metadata": {
        "id": "968aed80-74ef-4ffb-b5bf-c65b84e9caea"
      },
      "source": [
        "1. Напишите запрос, который позволит узнать, какие работодатели находятся на первом и пятом месте по количеству вакансий."
      ]
    },
    {
      "cell_type": "code",
      "execution_count": null,
      "id": "f2d62796-d400-4ec1-a675-88112739a50e",
      "metadata": {
        "id": "f2d62796-d400-4ec1-a675-88112739a50e"
      },
      "outputs": [],
      "source": [
        "#выбираем столбец с названиями компаний, считаем сколько вакансий есть у каждого работодателя\n",
        "query = f'''SELECT employers.name as name, count(vacancies.employer_id) as count\n",
        "from vacancies\n",
        "join employers on vacancies.employer_id = employers.id --#объединяем таблицы по общему условию\n",
        "group by employers.name\n",
        "order by 2 desc\n",
        "limit 6\n",
        "                     \n",
        "        '''\n",
        "df = pd.read_sql_query(query, connection)\n",
        "df\n"
      ]
    },
    {
      "cell_type": "markdown",
      "id": "7402d83d",
      "metadata": {},
      "source": [
        "Результат: На первом месте по количеству вакансий находится Яндекс(1933 вакансии). На пятом месте - Газпром нефть(331 вакансия)."
      ]
    },
    {
      "cell_type": "markdown",
      "id": "68377cfc-b378-43dc-ab7d-1195abf2c515",
      "metadata": {
        "id": "68377cfc-b378-43dc-ab7d-1195abf2c515"
      },
      "source": [
        "2. Напишите запрос, который для каждого региона выведет количество работодателей и вакансий в нём.\n",
        "Среди регионов, в которых нет вакансий, найдите тот, в котором наибольшее количество работодателей.\n"
      ]
    },
    {
      "cell_type": "code",
      "execution_count": null,
      "id": "dd7df27a-e3e8-412e-a21a-5d389b71e891",
      "metadata": {
        "id": "dd7df27a-e3e8-412e-a21a-5d389b71e891"
      },
      "outputs": [],
      "source": [
        "query = f'''SELECT areas.name as name, count(vacancies.id) as count_vacan, count(employers.id) as count_empl\n",
        "from areas\n",
        "left join vacancies on areas.id = vacancies.area_id --#дважды объединяем таблицу areas, сначала с vacancies, потом с employers\n",
        "left join employers on employers.area = areas.id\n",
        "where vacancies.id is null --#условие, что в регионе нет вакансий (is null)\n",
        "group by areas.name\n",
        "order by 2,3 desc\n",
        "limit 1\n",
        "                     \n",
        "        '''\n",
        "df = pd.read_sql_query(query, connection)\n",
        "df"
      ]
    },
    {
      "cell_type": "markdown",
      "id": "efb09563",
      "metadata": {},
      "source": [
        "Результат: Среди регионов, в которых нет вакансий, наибольшее количество работодателей в России (410 работодателей)"
      ]
    },
    {
      "cell_type": "markdown",
      "id": "f2fe0acb-ab1a-4e15-9326-2560e22d73c1",
      "metadata": {
        "id": "f2fe0acb-ab1a-4e15-9326-2560e22d73c1"
      },
      "source": [
        "3. Для каждого работодателя посчитайте количество регионов, в которых он публикует свои вакансии. Отсортируйте результат по убыванию количества.\n"
      ]
    },
    {
      "cell_type": "code",
      "execution_count": null,
      "id": "6271f8ad-bd2e-4196-ae4a-5b39c4c1010e",
      "metadata": {
        "id": "6271f8ad-bd2e-4196-ae4a-5b39c4c1010e"
      },
      "outputs": [],
      "source": [
        "query = f'''SELECT employers.name as name, count(distinct vacancies.area_id) as count_area --#istinct для получения уникального к-ва\n",
        "from vacancies\n",
        "join employers on vacancies.employer_id = employers.id\n",
        "group by employers.name\n",
        "order by 2 desc         \n",
        "        '''\n",
        "df = pd.read_sql_query(query, connection)\n",
        "df\n"
      ]
    },
    {
      "cell_type": "code",
      "execution_count": null,
      "id": "f18f8fae",
      "metadata": {},
      "outputs": [],
      "source": [
        "# Результат:\n",
        "#\tname\t                 count_area\n",
        "#0\tЯндекс                      181\n",
        "#1\tРостелеком                  152\n",
        "#2\tСпецремонт                  116\n",
        "#3\tПоляков Денис Иванович      88\n",
        "#4\tООО ЕФИН                    71\n",
        "#...\t...\t...\n",
        "#14761\tUniSol                  1\n",
        "#14762\tUNISTORY LLC            1\n",
        "#14763\tUNIT6                   1\n",
        "#14764\tUnited Distribution     1\n",
        "#14765\tUNITEL LLC              1       "
      ]
    },
    {
      "cell_type": "markdown",
      "id": "eab2206d-d95b-468b-8e5f-34381abf0ce7",
      "metadata": {
        "id": "eab2206d-d95b-468b-8e5f-34381abf0ce7"
      },
      "source": [
        "4. Напишите запрос для подсчёта количества работодателей, у которых не указана сфера деятельности. "
      ]
    },
    {
      "cell_type": "code",
      "execution_count": null,
      "id": "80defb23-bfb1-4a18-8be6-bf36aa7165d5",
      "metadata": {
        "id": "80defb23-bfb1-4a18-8be6-bf36aa7165d5"
      },
      "outputs": [],
      "source": [
        "query = f'''SELECT count(employers.id) as count_id\n",
        "from employers\n",
        "left join employers_industries on employers.id = employers_industries.employer_id\n",
        "where employers_industries.industry_id is null         \n",
        "        '''\n",
        "df = pd.read_sql_query(query, connection)\n",
        "df\n"
      ]
    },
    {
      "cell_type": "markdown",
      "id": "7f67c6fc",
      "metadata": {},
      "source": [
        "Результат: У 8419 работодателей не указана сфера деятельности."
      ]
    },
    {
      "cell_type": "markdown",
      "id": "0112af31-f6b0-4e3b-82ab-71296e752e5e",
      "metadata": {
        "id": "0112af31-f6b0-4e3b-82ab-71296e752e5e"
      },
      "source": [
        "5. Напишите запрос, чтобы узнать название компании, находящейся на третьем месте в алфавитном списке (по названию) компаний, у которых указано четыре сферы деятельности. "
      ]
    },
    {
      "cell_type": "code",
      "execution_count": null,
      "id": "973b0cfc-a972-470a-8b4a-68744ef220c4",
      "metadata": {
        "id": "973b0cfc-a972-470a-8b4a-68744ef220c4"
      },
      "outputs": [],
      "source": [
        "query = f'''select name --# берем названия компаний\n",
        "from employers\n",
        "         left join employers_industries on employers.id = employers_industries.employer_id --#к ней присоеденяем все сферы деятельности \n",
        "group by employers.id --# и группируем обязательно по id ком пании, т.к. они уникальные, а названия могут совпадать\n",
        "having count(employers_industries.industry_id) = 4 --# берем только те у которых количество равно 4\n",
        "order by name \n",
        "offset 2 limit 1 --# и убираем первые 2         \n",
        "        '''\n",
        "df = pd.read_sql_query(query, connection)\n",
        "df\n"
      ]
    },
    {
      "cell_type": "markdown",
      "id": "3066d5ad",
      "metadata": {},
      "source": [
        "Результат: Это компания 2ГИС"
      ]
    },
    {
      "cell_type": "markdown",
      "id": "3bfcfdaf-755d-4d2b-8ed8-326201dc07ab",
      "metadata": {
        "id": "3bfcfdaf-755d-4d2b-8ed8-326201dc07ab"
      },
      "source": [
        "6. С помощью запроса выясните, у какого количества работодателей в качестве сферы деятельности указана Разработка программного обеспечения.\n"
      ]
    },
    {
      "cell_type": "code",
      "execution_count": null,
      "id": "ad3f270f-2991-47eb-929b-e8f88a55b0d1",
      "metadata": {
        "id": "ad3f270f-2991-47eb-929b-e8f88a55b0d1"
      },
      "outputs": [],
      "source": [
        "query = f'''select count(employers_industries.employer_id) as coun\n",
        "from employers_industries\n",
        "join industries on employers_industries.industry_id = industries.id\n",
        "where industries.name = 'Разработка программного обеспечения' --#условие, название сферы деятельности.         \n",
        "        '''\n",
        "df = pd.read_sql_query(query, connection)\n",
        "df\n"
      ]
    },
    {
      "cell_type": "markdown",
      "id": "30fc7eac",
      "metadata": {},
      "source": [
        "Результат: У 3553 работодателей, в качестве сферы деятельности указана \"Разработка програмного обеспечения\""
      ]
    },
    {
      "cell_type": "code",
      "execution_count": null,
      "id": "H72qxWM0shPR",
      "metadata": {
        "id": "H72qxWM0shPR"
      },
      "outputs": [],
      "source": [
        "# результат запроса"
      ]
    },
    {
      "cell_type": "markdown",
      "id": "7b02bb86-0546-40fb-94a4-242f050a5c57",
      "metadata": {
        "id": "7b02bb86-0546-40fb-94a4-242f050a5c57"
      },
      "source": [
        "7. Для компании «Яндекс» выведите список регионов-миллионников, в которых представлены вакансии компании, вместе с количеством вакансий в этих регионах. Также добавьте строку Total с общим количеством вакансий компании. Результат отсортируйте по возрастанию количества.\n",
        "\n",
        "Список городов-милионников надо взять [отсюда](https://ru.wikipedia.org/wiki/%D0%93%D0%BE%D1%80%D0%BE%D0%B4%D0%B0-%D0%BC%D0%B8%D0%BB%D0%BB%D0%B8%D0%BE%D0%BD%D0%B5%D1%80%D1%8B_%D0%A0%D0%BE%D1%81%D1%81%D0%B8%D0%B8). \n",
        "\n",
        "Если возникнут трудности с этим задание посмотрите материалы модуля  PYTHON-17. Как получать данные из веб-источников и API. "
      ]
    },
    {
      "cell_type": "code",
      "execution_count": null,
      "id": "ZdfrL6gIs1Pn",
      "metadata": {
        "id": "ZdfrL6gIs1Pn"
      },
      "outputs": [],
      "source": [
        "# Через with temp as мы создаем параметр, к которому вернемся позже, а именно нужен будет столбец cnt\n",
        "query = f'''with temp AS (select count(vacancies.id) as cnt from vacancies\n",
        "left join employers on vacancies.employer_id = employers.id\n",
        "left join areas on areas.id = vacancies.area_id\n",
        "where employers.name = 'Яндекс' --#Условие - название копании и далее, через name in указываем список городов-миллионников\n",
        "and areas.name in ('Москва', 'Санкт-Петербург', 'Новосибирск','Екатеринбург','Казань','Нижний Новгород','Красноярск','Челябинск','Самара','Уфа','Ростов-на-Дону','Краснодар','Воронеж','Пермь','Волгоград','Омск'))\n",
        "select areas.name, count(vacancies.id) as cnt\n",
        "from vacancies\n",
        "left join employers on vacancies.employer_id = employers.id\n",
        "left join areas on areas.id = vacancies.area_id\n",
        "where employers.name = 'Яндекс'\n",
        "and areas.name in ('Москва', 'Санкт-Петербург', 'Новосибирск','Екатеринбург','Казань','Нижний Новгород','Красноярск','Челябинск','Самара','Уфа','Ростов-на-Дону','Краснодар','Воронеж','Пермь','Волгоград','Омск')\n",
        "group by areas.name\n",
        "\n",
        "UNION ALL --# используем для добавления доп строки ниже, в нашем случае строки total\n",
        "SELECT 'Total', sum(cnt)\n",
        "FROM temp --#данные берем из параметра, который создали выше.\n",
        "order by 2 desc     \n",
        "        '''\n",
        "df = pd.read_sql_query(query, connection)\n",
        "df\n"
      ]
    },
    {
      "cell_type": "code",
      "execution_count": null,
      "id": "acd35b65",
      "metadata": {},
      "outputs": [],
      "source": [
        "# Результат:\n",
        "#\tname\t            cnt\n",
        "#0\tTotal\t            485.0\n",
        "#1\tМосква\t            54.0\n",
        "#2\tСанкт-Петербург\t    42.0\n",
        "#3\tЕкатеринбург\t    39.0\n",
        "#4\tНижний Новгород\t    36.0\n",
        "#5\tНовосибирск         35.0\n",
        "#6\tВоронеж\t            32.0\n",
        "#7\tКраснодар           30.0\n",
        "#8\tСамара\t            26.0\n",
        "#9\tУфа                 26.0\n",
        "#10\tРостов-на-Дону\t    25.0\n",
        "#11\tПермь\t            25.0\n",
        "#12\tКазань\t            25.0\n",
        "#13\tВолгоград           24.0\n",
        "#14\tКрасноярск          23.0\n",
        "#15\tЧелябинск           22.0\n",
        "#16\tОмск\t            21.0"
      ]
    },
    {
      "cell_type": "markdown",
      "id": "04966e40-3bc3-4dc8-9ba2-e80580ce3abc",
      "metadata": {
        "id": "04966e40-3bc3-4dc8-9ba2-e80580ce3abc"
      },
      "source": [
        "***"
      ]
    },
    {
      "cell_type": "markdown",
      "id": "a3932423",
      "metadata": {},
      "source": [
        "Явно видно и понятно, что лидирующую позицию по кол-ву вакансий занимает Яндекс, а вместе с ним находятся Ростелеком, Тинькофф, Сбер и Газпром - это все крупные компании. В регионе Россия, больше всего компаний, у которых нет вакансий. Нужно смотреть, скорее всего, компании зарегистрированы в регионе, но работают в других. Также Яндекс лидирует по количеству регионов, в которых представлены его вакансии. При этом из лидеров по к-ву вакансий всего, в данном условии остался только Яндекс, а к нему присоединились компании меньше. У 8419 компаний не указана сфера деятельности, а это третья часть от всех работодателей, что много. И, скорее всего, сфера деятельности будет указана либо в описании компании, либо описании должности. Также заметно, что у компаний с количеством вакансий заметно меньшим, чем у лидеров, имеется более 3 сфер деятельности. Среди них 2ГИС, 21 век(РБ)... Примерно 13% работодателей занимается разработкой програмного обеспечения и компания Яндекс представлена во всех городах-миллионниках."
      ]
    },
    {
      "cell_type": "markdown",
      "id": "b1ef156a-efcb-49ce-bb23-90763e7f35b2",
      "metadata": {
        "id": "b1ef156a-efcb-49ce-bb23-90763e7f35b2",
        "tags": []
      },
      "source": [
        "# Юнит 6. Предметный анализ"
      ]
    },
    {
      "cell_type": "markdown",
      "id": "b9cd50a0-992d-4988-8463-2b2b1c4629b4",
      "metadata": {
        "id": "b9cd50a0-992d-4988-8463-2b2b1c4629b4"
      },
      "source": [
        "1. Сколько вакансий имеет отношение к данным?\n",
        "\n",
        "Считаем, что вакансия имеет отношение к данным, если в её названии содержатся слова 'data' или 'данн'.\n",
        "\n",
        "*Подсказка: Обратите внимание, что названия вакансий могут быть написаны в любом регистре.* \n"
      ]
    },
    {
      "cell_type": "code",
      "execution_count": null,
      "id": "54ab0e50-c0f1-47cc-a54b-bc5c8bc363f9",
      "metadata": {
        "id": "54ab0e50-c0f1-47cc-a54b-bc5c8bc363f9"
      },
      "outputs": [],
      "source": [
        "query = f'''select count(*)\n",
        "from vacancies\n",
        "where name like '%данн%' or name like '%data%' or name like '%Data%' or name like '%Данн%' or name like '%DATA%' or name like '%ДАНН%'         \n",
        "        '''#указали условие для названия вакансии\n",
        "df = pd.read_sql_query(query, connection)\n",
        "df\n"
      ]
    },
    {
      "cell_type": "markdown",
      "id": "e56c006a",
      "metadata": {},
      "source": [
        "Результат: 1771 вакансия имеет отношение к данным"
      ]
    },
    {
      "cell_type": "markdown",
      "id": "4dea20cb-a36b-474a-a0b9-e08e8e3857a5",
      "metadata": {
        "id": "4dea20cb-a36b-474a-a0b9-e08e8e3857a5"
      },
      "source": [
        "2. Сколько есть подходящих вакансий для начинающего дата-сайентиста? \n",
        "Будем считать вакансиями для дата-сайентистов такие, в названии которых есть хотя бы одно из следующих сочетаний:\n",
        "* 'data scientist'\n",
        "* 'data science'\n",
        "* 'исследователь данных'\n",
        "* 'ML' (здесь не нужно брать вакансии по HTML)\n",
        "* 'machine learning'\n",
        "* 'машинн%обучен%'\n",
        "\n",
        "** В следующих заданиях мы продолжим работать с вакансиями по этому условию.*\n",
        "\n",
        "Считаем вакансиями для специалистов уровня Junior следующие:\n",
        "* в названии есть слово 'junior' *или*\n",
        "* требуемый опыт — Нет опыта *или*\n",
        "* тип трудоустройства — Стажировка.\n",
        " "
      ]
    },
    {
      "cell_type": "code",
      "execution_count": null,
      "id": "9c61b3c0-bb66-46c9-ae1e-81d3f5752b4a",
      "metadata": {
        "id": "9c61b3c0-bb66-46c9-ae1e-81d3f5752b4a"
      },
      "outputs": [],
      "source": [
        "query = f'''select count(*)\n",
        "from vacancies\n",
        "WHERE\n",
        "    ((name ILIKE '%data scientist%') OR (name ILIKE '%data science%') OR (name ILIKE '%исследователь данных%')\n",
        "    OR ((name ILIKE '%ML%')\n",
        "    AND (name NOT ILIKE '%HTML%'))\n",
        "    OR (name ILIKE '%machine learning%') --#ilike нужен, так как он ищет без условия регистра\n",
        "    OR (name ILIKE '%машинн%обучен%')\n",
        "    AND (key_skills IS NOT NULL))\n",
        "    --#все это, это условие для поиска вакансий в data science обязательно обращать внимание на расстановку скобок.\n",
        "    AND (vacancies.name ILIKE '%junior%'\n",
        "    OR vacancies.experience ILIKE '%Нет опыта%' --#здесь, указаны условия для специалистов Junior\n",
        "    OR vacancies.employment ILIKE '%Стажировка%')         \n",
        "        '''\n",
        "df = pd.read_sql_query(query, connection)\n",
        "df\n"
      ]
    },
    {
      "cell_type": "markdown",
      "id": "ee29f259",
      "metadata": {},
      "source": [
        "Результат: Для начинающего дата саентиста, есть 51 вакансия"
      ]
    },
    {
      "cell_type": "markdown",
      "id": "eedceb80-c5ca-480e-b27a-278dfb8b4438",
      "metadata": {
        "id": "eedceb80-c5ca-480e-b27a-278dfb8b4438"
      },
      "source": [
        "3. Сколько есть вакансий для DS, в которых в качестве ключевого навыка указан SQL или postgres?\n",
        "\n",
        "** Критерии для отнесения вакансии к DS указаны в предыдущем задании.*"
      ]
    },
    {
      "cell_type": "code",
      "execution_count": null,
      "id": "69621713-0cc5-4f1b-a1d7-bb144fa6148c",
      "metadata": {
        "id": "69621713-0cc5-4f1b-a1d7-bb144fa6148c"
      },
      "outputs": [],
      "source": [
        "query = f'''select count(*)\n",
        "from vacancies\n",
        "WHERE\n",
        "    ((name ILIKE '%data scientist%') OR (name ILIKE '%data science%') OR (name ILIKE '%исследователь данных%')\n",
        "    OR ((name LIKE '%ML%') --#здесь оставили Like, так нужно в верхнем регистре обязательно\n",
        "    AND (name NOT ILIKE '%HTML%'))\n",
        "    OR (name ILIKE '%machine learning%')\n",
        "    OR (name ILIKE '%машинн%обучен%'))\n",
        "    AND (vacancies.key_skills ILIKE '%sql%'\n",
        "    OR vacancies.key_skills iLIKE '%postgre%')         \n",
        "        '''\n",
        "df = pd.read_sql_query(query, connection)\n",
        "df\n"
      ]
    },
    {
      "cell_type": "markdown",
      "id": "1cee9afa",
      "metadata": {},
      "source": [
        "Результат: Таких вакансий 201."
      ]
    },
    {
      "cell_type": "markdown",
      "id": "1be1e9c6-37cf-4a5f-bfeb-04cab799dc80",
      "metadata": {
        "id": "1be1e9c6-37cf-4a5f-bfeb-04cab799dc80"
      },
      "source": [
        "4. Проверьте, насколько популярен Python в требованиях работодателей к DS.Для этого вычислите количество вакансий, в которых в качестве ключевого навыка указан Python.\n",
        "\n",
        "** Это можно сделать помощью запроса, аналогичного предыдущему.*"
      ]
    },
    {
      "cell_type": "code",
      "execution_count": null,
      "id": "0036a355-9ccf-4564-8b01-73d8194297e7",
      "metadata": {
        "id": "0036a355-9ccf-4564-8b01-73d8194297e7"
      },
      "outputs": [],
      "source": [
        "query = f'''select count(*)\n",
        "from vacancies\n",
        "WHERE\n",
        "    ((name ILIKE '%data scientist%') OR (name ILIKE '%data science%') OR (name ILIKE '%исследователь данных%')\n",
        "    OR ((name LIKE '%ML%')\n",
        "    AND (name NOT ILIKE '%HTML%'))\n",
        "    OR (name ILIKE '%machine learning%')\n",
        "    OR (name ILIKE '%машинн%обучен%'))\n",
        "    AND (vacancies.key_skills ilike '%python%')         \n",
        "        '''\n",
        "df = pd.read_sql_query(query, connection)\n",
        "df\n"
      ]
    },
    {
      "cell_type": "markdown",
      "id": "05be4f1b",
      "metadata": {},
      "source": [
        "Результат: У 351 вакансии, требованием является Python "
      ]
    },
    {
      "cell_type": "markdown",
      "id": "ec3c8db7-fa21-4a41-a994-1af63742a642",
      "metadata": {
        "id": "ec3c8db7-fa21-4a41-a994-1af63742a642"
      },
      "source": [
        "5. Сколько ключевых навыков в среднем указывают в вакансиях для DS?\n",
        "Ответ округлите до двух знаков после точки-разделителя."
      ]
    },
    {
      "cell_type": "code",
      "execution_count": null,
      "id": "949132bc-d5b6-4611-8218-0b9a504d74f4",
      "metadata": {
        "id": "949132bc-d5b6-4611-8218-0b9a504d74f4"
      },
      "outputs": [],
      "source": [
        "query = f'''select round(avg(length(key_skills) - length(replace(key_skills,CHR(9),''))+1),2)\n",
        "from vacancies\n",
        "WHERE\n",
        "    ((name ILIKE '%data scientist%') OR (name ILIKE '%data science%') OR (name ILIKE '%исследователь данных%')\n",
        "    OR ((name LIKE '%ML%')\n",
        "    AND (name NOT ILIKE '%HTML%'))\n",
        "    OR (name ILIKE '%machine learning%')\n",
        "    OR (name ILIKE '%машинн%обучен%'))\n",
        "    AND vacancies.key_skills is not null         \n",
        "        '''\n",
        "df = pd.read_sql_query(query, connection)\n",
        "df\n"
      ]
    },
    {
      "cell_type": "markdown",
      "id": "0cb7ce91",
      "metadata": {},
      "source": [
        "Результат: В среднем, для DS, указывают 6 навыков. Если быть точнее, то (6.41)"
      ]
    },
    {
      "cell_type": "markdown",
      "id": "1041c17a-ca8f-4543-a0ca-32778914fb00",
      "metadata": {
        "id": "1041c17a-ca8f-4543-a0ca-32778914fb00"
      },
      "source": [
        "6. Напишите запрос, позволяющий вычислить, какую зарплату для DS в **среднем** указывают для каждого типа требуемого опыта (уникальное значение из поля *experience*). \n",
        "\n",
        "При решении задачи примите во внимание следующее:\n",
        "1. Рассматриваем только вакансии, у которых заполнено хотя бы одно из двух полей с зарплатой.\n",
        "2. Если заполнены оба поля с зарплатой, то считаем зарплату по каждой вакансии как сумму двух полей, делённую на 2. Если заполнено только одно из полей, то его и считаем зарплатой по вакансии.\n",
        "3. Если в расчётах участвует null, в результате он тоже даст null (посмотрите, что возвращает запрос select 1 + null). Чтобы избежать этой ситуацию, мы воспользуемся функцией [coalesce](https://postgrespro.ru/docs/postgresql/9.5/functions-conditional#functions-coalesce-nvl-ifnull), которая заменит null на значение, которое мы передадим. Например, посмотрите, что возвращает запрос `select 1 + coalesce(null, 0)`\n",
        "\n",
        "Выясните, на какую зарплату в среднем может рассчитывать дата-сайентист с опытом работы от 3 до 6 лет. Результат округлите до целого числа. "
      ]
    },
    {
      "cell_type": "code",
      "execution_count": null,
      "id": "6a743d39-5204-48d3-8271-b9f88e68d40e",
      "metadata": {
        "id": "6a743d39-5204-48d3-8271-b9f88e68d40e"
      },
      "outputs": [],
      "source": [
        "query = f'''SELECT experience, ROUND(AVG(coalesce((vacancies.salary_from + vacancies.salary_to) / 2, vacancies.salary_from, vacancies.salary_to)), 0) as salary\n",
        "FROM vacancies   \n",
        "WHERE  ((name ILIKE '%data scientist%') OR (name ILIKE '%data science%') OR (name ILIKE '%исследователь данных%')\n",
        "    OR ((name LIKE '%ML%')\n",
        "    AND (name NOT ILIKE '%HTML%'))\n",
        "    OR (name ILIKE '%machine learning%')\n",
        "    OR (name ILIKE '%машинн%обучен%'))\n",
        "    \n",
        "GROUP BY vacancies.experience\n",
        "order by 1 desc         \n",
        "        '''\n",
        "df = pd.read_sql_query(query, connection)\n",
        "df\n"
      ]
    },
    {
      "cell_type": "code",
      "execution_count": null,
      "id": "3c07e45c",
      "metadata": {},
      "outputs": [],
      "source": [
        "# Результат:\n",
        "#   experience          #round\n",
        "#0  От 3 до 6 лет       #243115.0\n",
        "#1  От 1 года до 3 лет  #139675.0\n",
        "#2  Нет опыта           #74643.0\n",
        "#3  Более 6 лет         #NaN"
      ]
    },
    {
      "cell_type": "markdown",
      "id": "6a7892b4-4113-4746-adce-18aa2844f18e",
      "metadata": {
        "id": "6a7892b4-4113-4746-adce-18aa2844f18e"
      },
      "source": [
        "***"
      ]
    },
    {
      "cell_type": "markdown",
      "id": "d2e2fc4c",
      "metadata": {},
      "source": [
        "Исходя из результатов видно, что 1771 вакансия имеет отношение к данным, что всего 3% от общего количества вакансий. При этом, только 51 вакансия предлагается для специалистов уровня Junior. Получается, что компании более ориентированы на поиск опытных сотрудников, либо позиции, которые прдлагаются, требуют больший опыт работы. По требованиям к навыкам Python и SQL, видно, что требования к знанию Python больше и в среднем у специалиста DS, требуется 6 навыков. По уровню з.п, сразу видна закономерность с ранее изученной нижней и верхней \"вилкой\". Нижняя вилка была 71 000, что соответствует зп начинающего специалиста и 110 верхняя, что соответсвтует опыту от года до трех лет. Естсественно уровенб зарплаты у специалистов с большим опытом работы, более 3 лет фактически в два раза больше."
      ]
    },
    {
      "cell_type": "markdown",
      "id": "c0ED6fh7wiBT",
      "metadata": {
        "id": "c0ED6fh7wiBT"
      },
      "source": [
        "# Общий вывод по проекту"
      ]
    },
    {
      "cell_type": "markdown",
      "id": "548a3167",
      "metadata": {},
      "source": [
        "Из имеющихся данных, по поиску IT специалистов, было обнаружено, что только 3% вакансий подходят для DS. Скорее всего, больший уклон делается на разработку и другие сферы IT. Но не факт, что эти 3% это самы маленький показатель. Очень заметным стало наличие всего 51 вакансии для начинающего специалиста уровня Junior - всего 51 из 1771 имеющейся. Возможно, это нужнои зучить дополнительно, начинающий специалист может получить опыт в режиме стажировки, но все равно, это не переведет его на уровень middle, но может стать хорошим помощником в резюме. Требований к знанию Python больше, чем к SQL, что говорит о том, что на одном знании SQL, скорее всего возникнут трудности, что и может быть в обратной ситуации, когда есть знания только Python. Больше всего вакансий, по количеству регионов, представлена компания Яндекс, но она и является лидирующей в IT сфере. Уровень заработной платы очень хорошо показывает, что нижняя и верхняя планка, это наличие опыта. "
      ]
    }
  ],
  "metadata": {
    "colab": {
      "collapsed_sections": [
        "8d62a9f3-f64e-4fe7-bdac-c4dffa16155e"
      ],
      "provenance": []
    },
    "kernelspec": {
      "display_name": "Python 3 (ipykernel)",
      "language": "python",
      "name": "python3"
    },
    "language_info": {
      "codemirror_mode": {
        "name": "ipython",
        "version": 3
      },
      "file_extension": ".py",
      "mimetype": "text/x-python",
      "name": "python",
      "nbconvert_exporter": "python",
      "pygments_lexer": "ipython3",
      "version": "3.11.3"
    }
  },
  "nbformat": 4,
  "nbformat_minor": 5
}
