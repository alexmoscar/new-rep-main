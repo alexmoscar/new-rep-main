{
 "cells": [
  {
   "cell_type": "code",
   "execution_count": 4,
   "metadata": {},
   "outputs": [
    {
     "name": "stdout",
     "output_type": "stream",
     "text": [
      "Число найденных дубликатов: 562\n",
      "Результирующее число записей: 29909\n"
     ]
    }
   ],
   "source": [
    "                                           #ПОИСК И УДАЛЕНИЕ ДУБЛИКАТОВ СТРОК\n",
    "import pandas as pd\n",
    "import numpy as np\n",
    "import matplotlib.pyplot as plt\n",
    "import seaborn as sns\n",
    "sber_data = pd.read_csv('sber_data.csv')\n",
    "dupl_columns = list(sber_data.columns)#обращаемся к списку колонок в таблице\n",
    "dupl_columns.remove('id')# удаляем колонку с id, так как она будет мешать.\n",
    "# создаем маску для отслеживания дубликатов subset - по какому признаку ищем. У нас по табл без id\n",
    "mask = sber_data.duplicated(subset=dupl_columns)\n",
    "# теперь, по маске ищем будликаты и выводим их к-во (их получается 562, это все дубликаты строк)\n",
    "sber_duplicates = sber_data[mask]\n",
    "print(f'Число найденных дубликатов: {sber_duplicates.shape[0]}')\n",
    "#создаем новый файл, где через drop.duplicates, удаляем дубликаты и выводим число полученных записей.\n",
    "sber_dedupped = sber_data.drop_duplicates(subset=dupl_columns)\n",
    "print(f'Результирующее число записей: {sber_dedupped.shape[0]}')\n",
    "\n"
   ]
  }
 ],
 "metadata": {
  "kernelspec": {
   "display_name": "Python 3",
   "language": "python",
   "name": "python3"
  },
  "language_info": {
   "codemirror_mode": {
    "name": "ipython",
    "version": 3
   },
   "file_extension": ".py",
   "mimetype": "text/x-python",
   "name": "python",
   "nbconvert_exporter": "python",
   "pygments_lexer": "ipython3",
   "version": "3.11.3"
  },
  "orig_nbformat": 4
 },
 "nbformat": 4,
 "nbformat_minor": 2
}
