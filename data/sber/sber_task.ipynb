{
 "cells": [
  {
   "cell_type": "code",
   "execution_count": 2,
   "metadata": {},
   "outputs": [
    {
     "name": "stdout",
     "output_type": "stream",
     "text": [
      "hospital_beds_raion          47.392603\n",
      "preschool_quota              21.948738\n",
      "school_quota                 21.938893\n",
      "life_sq                      20.947786\n",
      "floor                         0.548062\n",
      "metro_min_walk                0.082045\n",
      "metro_km_walk                 0.082045\n",
      "railroad_station_walk_km      0.082045\n",
      "railroad_station_walk_min     0.082045\n",
      "dtype: float64\n"
     ]
    }
   ],
   "source": [
    "import pandas as pd\n",
    "import numpy as np\n",
    "import matplotlib.pyplot as plt\n",
    "import seaborn as sns\n",
    "sber_data = pd.read_csv('sber_data.csv')\n",
    "null_perc = sber_data.isnull().mean()*100\n",
    "with_null = null_perc[null_perc>0].sort_values(ascending = False)\n",
    "print(with_null)\n",
    "\n"
   ]
  }
 ],
 "metadata": {
  "kernelspec": {
   "display_name": "Python 3",
   "language": "python",
   "name": "python3"
  },
  "language_info": {
   "codemirror_mode": {
    "name": "ipython",
    "version": 3
   },
   "file_extension": ".py",
   "mimetype": "text/x-python",
   "name": "python",
   "nbconvert_exporter": "python",
   "pygments_lexer": "ipython3",
   "version": "3.11.3"
  },
  "orig_nbformat": 4
 },
 "nbformat": 4,
 "nbformat_minor": 2
}
