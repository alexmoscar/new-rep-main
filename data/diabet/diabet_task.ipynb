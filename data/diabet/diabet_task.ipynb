{
 "cells": [
  {
   "cell_type": "code",
   "execution_count": 29,
   "metadata": {},
   "outputs": [
    {
     "name": "stdout",
     "output_type": "stream",
     "text": [
      "Gender: 100.0% одинаковых значений\n",
      "742\n"
     ]
    }
   ],
   "source": [
    "import pandas as pd\n",
    "import numpy as np\n",
    "import matplotlib.pyplot as plt\n",
    "import seaborn as sns\n",
    "diabetes = pd.read_csv('diabetes_data.csv')\n",
    "# ищем дубликаты и удалем их\n",
    "dupl_columns = list(diabetes.columns)\n",
    "mask = diabetes.duplicated(subset=dupl_columns)\n",
    "diabetes_duplicates = diabetes[mask]\n",
    "diabetes_dedupped = diabetes.drop_duplicates(subset=dupl_columns)\n",
    "# ищем неинформативные и удалем их\n",
    "low_information_cols = [] \n",
    "\n",
    "for col in diabetes.columns: \n",
    "    top_freq = diabetes[col].value_counts(normalize=True).max()\n",
    "    nunique_ratio = diabetes[col].nunique() / diabetes[col].count()\n",
    "    if top_freq > 0.95: \n",
    "        low_information_cols.append(col)\n",
    "        print(f'{col}: {round(top_freq*100, 2)}% одинаковых значений')\n",
    "    if nunique_ratio > 0.95:\n",
    "        low_information_cols.append(col)\n",
    "        print(f'{col}: {round(nunique_ratio*100, 2)}% уникальных значений')\n",
    "information_diabetes = diabetes.drop(low_information_cols, axis=1)\n",
    "\n",
    "#заменим нули, т.е. пропуски в таблице, на NAN, так как с нулями не работает\n",
    "list_coll = ['Glucose', 'BloodPressure', 'SkinThickness', 'Insulin', 'BMI'] #создаем список нужных столбцов\n",
    "information_diabetes[information_diabetes[list_coll] == 0] = np.nan     #производим замену через маску\n",
    "diabetes_withnull = information_diabetes['Insulin'].isnull().mean().round(2) # нашли объем пропусков в колонке Insulin\n",
    "\n",
    "m = information_diabetes.shape[1]\n",
    "information_diabetes = information_diabetes.dropna(thresh=m-2, axis=0)\n",
    "print(information_diabetes.shape[0])\n"
   ]
  }
 ],
 "metadata": {
  "kernelspec": {
   "display_name": "Python 3",
   "language": "python",
   "name": "python3"
  },
  "language_info": {
   "codemirror_mode": {
    "name": "ipython",
    "version": 3
   },
   "file_extension": ".py",
   "mimetype": "text/x-python",
   "name": "python",
   "nbconvert_exporter": "python",
   "pygments_lexer": "ipython3",
   "version": "3.11.3"
  },
  "orig_nbformat": 4
 },
 "nbformat": 4,
 "nbformat_minor": 2
}
