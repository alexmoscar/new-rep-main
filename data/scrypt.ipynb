{
 "cells": [
  {
   "cell_type": "markdown",
   "metadata": {},
   "source": [
    "КАК НАСТРОИТЬ АВТОМАТИЧЕСКИЙ ЗАПУСК\n",
    "# Устанавливаем библиотеку schedule\n",
    "!pip install schedule \n",
    "Для того чтобы у нас появилась возможность использовать модуль в коде, импортируем его:\n",
    "\n",
    "import schedule # Импортируем модуль schedule"
   ]
  },
  {
   "cell_type": "markdown",
   "metadata": {},
   "source": [
    "Рассмотрим вариант автоматического запуска простой функции, которая выводит на экран короткое сообщение: Hello! I am a task!\n",
    "Предположим, что мы хотим, чтобы функция запускалась через определённые интервалы времени, а именно каждые 15 минут."
   ]
  },
  {
   "cell_type": "code",
   "execution_count": null,
   "metadata": {},
   "outputs": [],
   "source": [
    "import schedule\n",
    "def task(): \n",
    "    print('Hello! I am a task!') \n",
    "    return\n",
    "schedule.every(15).minutes.do(task)\n",
    "#Если бы мы хотели запускать задачу, например, каждый час, то могли бы написать:\n",
    "schedule.every(1).hour.do(task) \n"
   ]
  },
  {
   "cell_type": "markdown",
   "metadata": {},
   "source": [
    "Этот код будет каждую секунду проверять, не надо ли выполнить какую-то задачу, и раз в 15 минут будет выводить на экран фразу: \"Hello! I am a task!\" Вывод сообщения будет повторяться до тех пор, пока вы не остановите выполнение скрипта."
   ]
  },
  {
   "cell_type": "code",
   "execution_count": null,
   "metadata": {},
   "outputs": [],
   "source": [
    "import schedule\n",
    "\n",
    "def task(): \n",
    "    print('Hello! I am a task!') \n",
    "    return\n",
    "\n",
    "schedule.every(15).minutes.do(task)\n",
    "\n",
    "import time \n",
    "while True: \n",
    "    schedule.run_pending() \n",
    "    time.sleep(1)"
   ]
  }
 ],
 "metadata": {
  "language_info": {
   "name": "python"
  },
  "orig_nbformat": 4
 },
 "nbformat": 4,
 "nbformat_minor": 2
}
